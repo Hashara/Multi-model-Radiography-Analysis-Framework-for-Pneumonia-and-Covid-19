{
  "nbformat": 4,
  "nbformat_minor": 0,
  "metadata": {
    "accelerator": "GPU",
    "colab": {
      "name": "MobileNetV2_dasa_(V9).ipynb",
      "provenance": [],
      "collapsed_sections": []
    },
    "kernelspec": {
      "display_name": "Python 3",
      "name": "python3"
    },
    "language_info": {
      "name": "python"
    }
  },
  "cells": [
    {
      "cell_type": "code",
      "metadata": {
        "colab": {
          "base_uri": "https://localhost:8080/"
        },
        "id": "B07knrGc3IBj",
        "outputId": "59900369-06a8-42d4-b6ca-568dcfc76ac1"
      },
      "source": [
        "from google.colab import drive\n",
        "drive.mount('/content/drive')"
      ],
      "execution_count": null,
      "outputs": [
        {
          "output_type": "stream",
          "text": [
            "Mounted at /content/drive\n"
          ],
          "name": "stdout"
        }
      ]
    },
    {
      "cell_type": "markdown",
      "metadata": {
        "id": "8AVAxihXC3IL"
      },
      "source": [
        "# Dataset preparation"
      ]
    },
    {
      "cell_type": "code",
      "metadata": {
        "id": "lomxYskAFrbN"
      },
      "source": [
        "#copy pneumonia dataset and unzip\n",
        "\n",
        "!cp '/content/drive/Shareddrives/fyp/dataset/paultimothy/archive.zip' .\n",
        "\n",
        "# unzip\n",
        "!unzip -q 'archive.zip'"
      ],
      "execution_count": null,
      "outputs": []
    },
    {
      "cell_type": "code",
      "metadata": {
        "id": "IX6AXRPZFsbE"
      },
      "source": [
        "#copy covid dataset \n",
        "!cp '/content/drive/Shareddrives/fyp/dataset/tawsifurrahman covid/archive.zip' './covid.zip' \n",
        "\n",
        "# unzip\n",
        "!unzip -q 'covid.zip'"
      ],
      "execution_count": null,
      "outputs": []
    },
    {
      "cell_type": "code",
      "metadata": {
        "id": "lz9ISTO_Fu1t"
      },
      "source": [
        "!mkdir pauldataset"
      ],
      "execution_count": null,
      "outputs": []
    },
    {
      "cell_type": "code",
      "metadata": {
        "id": "Qoz9rLbLFx1W"
      },
      "source": [
        "# copy pneumonia images to created folder\n",
        "!cp -r '/content/chest_xray/test/PNEUMONIA/.' '/content/pauldataset/pneumonia/'\n",
        "!cp -r '/content/chest_xray/train/PNEUMONIA/.' '/content/pauldataset/pneumonia/'\n",
        "!cp -r '/content/chest_xray/val/PNEUMONIA/.' '/content/pauldataset/pneumonia/'"
      ],
      "execution_count": null,
      "outputs": []
    },
    {
      "cell_type": "code",
      "metadata": {
        "colab": {
          "base_uri": "https://localhost:8080/"
        },
        "id": "2vM617OKF1Ni",
        "outputId": "4844484f-c1ac-4699-c006-219fdda4b789"
      },
      "source": [
        "!ls /content/pauldataset/pneumonia/ | wc -l"
      ],
      "execution_count": null,
      "outputs": [
        {
          "output_type": "stream",
          "text": [
            "4273\n"
          ],
          "name": "stdout"
        }
      ]
    },
    {
      "cell_type": "code",
      "metadata": {
        "id": "OCA2dKYvF7tB"
      },
      "source": [
        "# copy normal images to created folder\n",
        "!cp -r '/content/chest_xray/test/NORMAL/.' '/content/pauldataset/normal/'\n",
        "!cp -r '/content/chest_xray/train/NORMAL/.' '/content/pauldataset/normal/'\n",
        "!cp -r '/content/chest_xray/val/NORMAL/.' '/content/pauldataset/normal/'"
      ],
      "execution_count": null,
      "outputs": []
    },
    {
      "cell_type": "code",
      "metadata": {
        "colab": {
          "base_uri": "https://localhost:8080/"
        },
        "id": "xFW0kEBYF_W3",
        "outputId": "fd36d1eb-4471-4ad5-b496-1b7fa028eb18"
      },
      "source": [
        "!ls /content/pauldataset/normal/ | wc -l"
      ],
      "execution_count": null,
      "outputs": [
        {
          "output_type": "stream",
          "text": [
            "1583\n"
          ],
          "name": "stdout"
        }
      ]
    },
    {
      "cell_type": "code",
      "metadata": {
        "id": "eOGlVROsGB3l"
      },
      "source": [
        "# copy covid images to created folder\n",
        "!cp -r '/content/COVID-19_Radiography_Dataset/COVID/.' '/content/pauldataset/covid/'"
      ],
      "execution_count": null,
      "outputs": []
    },
    {
      "cell_type": "code",
      "metadata": {
        "colab": {
          "base_uri": "https://localhost:8080/"
        },
        "id": "6Ji6gK_iGFzd",
        "outputId": "4695e74e-793f-4a05-9449-151d97847152"
      },
      "source": [
        "!ls /content/pauldataset/covid/ | wc -l"
      ],
      "execution_count": null,
      "outputs": [
        {
          "output_type": "stream",
          "text": [
            "3616\n"
          ],
          "name": "stdout"
        }
      ]
    },
    {
      "cell_type": "markdown",
      "metadata": {
        "id": "ZKg6UdV4C9dP"
      },
      "source": [
        "# Import libraries"
      ]
    },
    {
      "cell_type": "code",
      "metadata": {
        "id": "htbuBETkr_nR"
      },
      "source": [
        "import os\n",
        "import numpy as np\n",
        "import pandas as pd \n",
        "import matplotlib.pyplot as plt\n",
        "from random import shuffle\n",
        "import random"
      ],
      "execution_count": null,
      "outputs": []
    },
    {
      "cell_type": "code",
      "metadata": {
        "id": "bsOQmpsO-zBD"
      },
      "source": [
        "import tensorflow as tf\n",
        "import tensorflow.keras.layers as tfl\n",
        "from tensorflow.keras.preprocessing.image import ImageDataGenerator, load_img\n",
        "from tensorflow.keras.preprocessing import image_dataset_from_directory\n",
        "from tensorflow.keras.layers.experimental.preprocessing import RandomFlip, RandomRotation\n",
        "from tensorflow.keras.models import Model\n",
        "from tensorflow.keras.callbacks import EarlyStopping, ModelCheckpoint, ReduceLROnPlateau\n",
        "\n",
        "from sklearn.model_selection import train_test_split\n",
        "from sklearn.metrics import classification_report\n",
        "from sklearn.metrics import confusion_matrix\n",
        "\n",
        "from tensorflow.keras.layers.experimental.preprocessing import RandomFlip"
      ],
      "execution_count": null,
      "outputs": []
    },
    {
      "cell_type": "markdown",
      "metadata": {
        "id": "FpEey-G7DA5V"
      },
      "source": [
        "# Define constants & methods"
      ]
    },
    {
      "cell_type": "code",
      "metadata": {
        "id": "-1HKa4DCSsqr"
      },
      "source": [
        "from requests import get\n",
        "version_name = get('http://172.28.0.2:9000/api/sessions').json()[0]['name'].split('.')[0]\n",
        "save_model_path = \"/content/drive/Shareddrives/fyp/models/mobileNet/Hash/\"+version_name+\".h5\"\n",
        "save_history_path = \"/content/drive/Shareddrives/fyp/models/mobileNet/Hash/\"+version_name"
      ],
      "execution_count": null,
      "outputs": []
    },
    {
      "cell_type": "code",
      "metadata": {
        "id": "uaGjHouXju5f"
      },
      "source": [
        "IMAGE_WIDTH = 224\n",
        "IMAGE_HEIGHT = 224\n",
        "IMAGE_SIZE = (IMAGE_WIDTH, IMAGE_HEIGHT)\n",
        "\n",
        "input_shape = (IMAGE_WIDTH, IMAGE_HEIGHT, 3)"
      ],
      "execution_count": null,
      "outputs": []
    },
    {
      "cell_type": "code",
      "metadata": {
        "id": "JtP7RzT3S2OT"
      },
      "source": [
        "# plot graphs for training and valdation data\n",
        "def plot_graphs(history):\n",
        "  acc = [0.] + history.history['accuracy']\n",
        "  val_acc = [0.] + history.history['val_accuracy']\n",
        "\n",
        "  loss = history.history['loss']\n",
        "  val_loss = history.history['val_loss']\n",
        "\n",
        "  plt.figure(figsize=(8, 8))\n",
        "  plt.subplot(2, 1, 1)\n",
        "  plt.plot(acc,'o-g', label='Training Accuracy')\n",
        "  plt.plot(val_acc, 'o-r',label='Validation Accuracy')\n",
        "  plt.legend(loc='lower right')\n",
        "  plt.ylabel('Accuracy')\n",
        "  plt.ylim([min(plt.ylim()),1])\n",
        "  plt.title('Training and Validation Accuracy')\n",
        "\n",
        "  plt.subplot(2, 1, 2)\n",
        "  plt.plot(loss, 'o-g', label='Training Loss')\n",
        "  plt.plot(val_loss, 'o-r',label='Validation Loss',color='red')\n",
        "  plt.legend(loc='upper right')\n",
        "  plt.ylabel('Cross Entropy')\n",
        "  plt.ylim([0,3.0])\n",
        "  plt.title('Training and Validation Loss')\n",
        "  plt.xlabel('epoch')\n",
        "  plt.show()"
      ],
      "execution_count": null,
      "outputs": []
    },
    {
      "cell_type": "code",
      "metadata": {
        "id": "Ay1_gsPvTBqx"
      },
      "source": [
        "# get accuray of test data\n",
        "def getModelAccuracy(dataframe):\n",
        "    sample_test = dataframe\n",
        "    correctPredictions = 0\n",
        "\n",
        "    correctNormalPred = 0\n",
        "    correctCovidPred = 0\n",
        "    correctPneumoniaPred = 0\n",
        "\n",
        "    totalNormalPred = 0\n",
        "    totalCovidPred = 0\n",
        "    totalPneumoniaPred = 0\n",
        "\n",
        "    for index, row in sample_test.iterrows():\n",
        "\n",
        "        filename = row['filename']\n",
        "        prediction = row['category']\n",
        "\n",
        "        # img = load_img(path + 'CrossValidationDataset\\\\' + filename, target_size=IMAGE_SIZE)\n",
        "\n",
        "        if (path +'/normal') in filename:\n",
        "\n",
        "            if prediction == 0:\n",
        "                correctPredictions += 1\n",
        "                correctNormalPred += 1\n",
        "\n",
        "            totalNormalPred += 1\n",
        "\n",
        "        if (path + '/covid') in filename:\n",
        "\n",
        "            if prediction == 1: \n",
        "                correctPredictions += 1\n",
        "                correctCovidPred += 1\n",
        "\n",
        "            totalCovidPred += 1\n",
        "\n",
        "        if (path + '/pneumonia') in filename:\n",
        "\n",
        "            if prediction == 2: \n",
        "                correctPredictions += 1\n",
        "                correctPneumoniaPred += 1\n",
        "\n",
        "            totalPneumoniaPred += 1\n",
        "            \n",
        "    print('Model Accuracy:', \"{:.2%}\".format(correctPredictions / test_df.shape[0]))\n",
        "    print('Correct Predictions:', correctPredictions, 'Total Predictions:', test_df.shape[0])\n",
        "\n",
        "    print('\\nNormal Predictions:', correctNormalPred, 'Accuracy', \"{:.2%}\".format(correctNormalPred /  totalNormalPred))\n",
        "    print('Covid Predictions:', correctCovidPred, 'Accuracy', \"{:.2%}\".format(correctCovidPred /  totalCovidPred))\n",
        "    print('Pneumonia Predictions:', correctPneumoniaPred, 'Accuracy', \"{:.2%}\".format(correctPneumoniaPred / totalPneumoniaPred))\n",
        "    \n",
        "    return (correctPredictions / test_df.shape[0]) * 100"
      ],
      "execution_count": null,
      "outputs": []
    },
    {
      "cell_type": "code",
      "metadata": {
        "id": "U8RBTsYgTFZ5"
      },
      "source": [
        "# plot confusion matrix\n",
        "import numpy as np\n",
        "import matplotlib.pyplot as plt\n",
        "import numpy as np\n",
        "import itertools\n",
        "\n",
        "# np_config.enable_numpy_behavior()\n",
        "    \n",
        "def plot_confusion_matrix(cm,\n",
        "                          target_names,\n",
        "                          title='Confusion Matrix',\n",
        "                          cmap=None,\n",
        "                          normalize=True):\n",
        "\n",
        "    accuracy = np.trace(cm) / np.sum(cm).astype('float')\n",
        "    misclass = 1 - accuracy\n",
        "\n",
        "    if cmap is None:\n",
        "        cmap = plt.get_cmap('Oranges')\n",
        "\n",
        "    plt.figure(figsize=(5, 4))\n",
        "    plt.imshow(cm, interpolation='nearest', cmap=cmap)\n",
        "    plt.title(title)\n",
        "    plt.colorbar()\n",
        "\n",
        "    if target_names is not None:\n",
        "        tick_marks = np.arange(len(target_names))\n",
        "        plt.xticks(tick_marks, target_names, rotation=45)\n",
        "        plt.yticks(tick_marks, target_names)\n",
        "\n",
        "    if normalize:\n",
        "        cm = cm.astype('float') / cm.sum(axis=1)[:, np.newaxis]\n",
        "\n",
        "    thresh = cm.max() / 1.5 if normalize else cm.max() / 2\n",
        "    # thresh = np.max(cm) / 1.5 if normalize else np.max(cm) / 2\n",
        "\n",
        "    for i, j in itertools.product(range(cm.shape[0]), range(cm.shape[1])):\n",
        "        if normalize:\n",
        "            plt.text(j, i, \"{:0.4f}\".format(cm[i, j]),\n",
        "                     horizontalalignment=\"center\",\n",
        "                     color=\"white\" if cm[i, j] > thresh else \"black\")\n",
        "        else:\n",
        "            plt.text(j, i, \"{:,}\".format(cm[i, j]),\n",
        "                     horizontalalignment=\"center\",\n",
        "                     color=\"white\" if cm[i, j] > thresh else \"black\")\n",
        "\n",
        "\n",
        "    plt.tight_layout()\n",
        "    plt.ylabel('True Label')\n",
        "    plt.xlabel('Predicted Label\\naccuracy={:0.4f}; misclass={:0.4f}'.format(accuracy, misclass))\n",
        "    plt.show()\n",
        "    \n",
        "\n"
      ],
      "execution_count": null,
      "outputs": []
    },
    {
      "cell_type": "code",
      "metadata": {
        "id": "59nqJ8ZUTGuW"
      },
      "source": [
        "path = \"/content/pauldataset\""
      ],
      "execution_count": null,
      "outputs": []
    },
    {
      "cell_type": "markdown",
      "metadata": {
        "id": "uBWpU8nQy6te"
      },
      "source": [
        "# Model\n",
        "\n",
        "\n",
        "\n",
        "\n"
      ]
    },
    {
      "cell_type": "code",
      "metadata": {
        "id": "ywhnG4xdlUzz"
      },
      "source": [
        "def CNNModel():\n",
        "  init_model = tf.keras.applications.mobilenet_v2.MobileNetV2(include_top=False, input_shape=input_shape)\n",
        "  x = init_model.output\n",
        "  x = tfl.GlobalAveragePooling2D()(x)\n",
        "  x = tfl.Dropout(0.2)(x)\n",
        "  x = tfl.Dense(3, activation='softmax')(x) # 3 units\n",
        "  new_model = Model(inputs=init_model.input, outputs=x)\n",
        "  # without freezing layers - without getting pre-trained parameters\n",
        "\n",
        "  return new_model"
      ],
      "execution_count": null,
      "outputs": []
    },
    {
      "cell_type": "code",
      "metadata": {
        "id": "cBI_JwuLlmNk",
        "colab": {
          "base_uri": "https://localhost:8080/"
        },
        "outputId": "ce0228ee-d74c-4f9d-ab85-2773e5dd5941"
      },
      "source": [
        "test_model = CNNModel()"
      ],
      "execution_count": null,
      "outputs": [
        {
          "output_type": "stream",
          "text": [
            "Downloading data from https://storage.googleapis.com/tensorflow/keras-applications/mobilenet_v2/mobilenet_v2_weights_tf_dim_ordering_tf_kernels_1.0_224_no_top.h5\n",
            "9412608/9406464 [==============================] - 0s 0us/step\n",
            "9420800/9406464 [==============================] - 0s 0us/step\n"
          ],
          "name": "stdout"
        }
      ]
    },
    {
      "cell_type": "code",
      "metadata": {
        "colab": {
          "base_uri": "https://localhost:8080/"
        },
        "id": "7h2WKsAPlviV",
        "outputId": "7885273a-6cb5-440c-decc-b5c1afdabad4"
      },
      "source": [
        "test_model.summary()"
      ],
      "execution_count": null,
      "outputs": [
        {
          "output_type": "stream",
          "text": [
            "Model: \"model\"\n",
            "__________________________________________________________________________________________________\n",
            "Layer (type)                    Output Shape         Param #     Connected to                     \n",
            "==================================================================================================\n",
            "input_1 (InputLayer)            [(None, 224, 224, 3) 0                                            \n",
            "__________________________________________________________________________________________________\n",
            "Conv1 (Conv2D)                  (None, 112, 112, 32) 864         input_1[0][0]                    \n",
            "__________________________________________________________________________________________________\n",
            "bn_Conv1 (BatchNormalization)   (None, 112, 112, 32) 128         Conv1[0][0]                      \n",
            "__________________________________________________________________________________________________\n",
            "Conv1_relu (ReLU)               (None, 112, 112, 32) 0           bn_Conv1[0][0]                   \n",
            "__________________________________________________________________________________________________\n",
            "expanded_conv_depthwise (Depthw (None, 112, 112, 32) 288         Conv1_relu[0][0]                 \n",
            "__________________________________________________________________________________________________\n",
            "expanded_conv_depthwise_BN (Bat (None, 112, 112, 32) 128         expanded_conv_depthwise[0][0]    \n",
            "__________________________________________________________________________________________________\n",
            "expanded_conv_depthwise_relu (R (None, 112, 112, 32) 0           expanded_conv_depthwise_BN[0][0] \n",
            "__________________________________________________________________________________________________\n",
            "expanded_conv_project (Conv2D)  (None, 112, 112, 16) 512         expanded_conv_depthwise_relu[0][0\n",
            "__________________________________________________________________________________________________\n",
            "expanded_conv_project_BN (Batch (None, 112, 112, 16) 64          expanded_conv_project[0][0]      \n",
            "__________________________________________________________________________________________________\n",
            "block_1_expand (Conv2D)         (None, 112, 112, 96) 1536        expanded_conv_project_BN[0][0]   \n",
            "__________________________________________________________________________________________________\n",
            "block_1_expand_BN (BatchNormali (None, 112, 112, 96) 384         block_1_expand[0][0]             \n",
            "__________________________________________________________________________________________________\n",
            "block_1_expand_relu (ReLU)      (None, 112, 112, 96) 0           block_1_expand_BN[0][0]          \n",
            "__________________________________________________________________________________________________\n",
            "block_1_pad (ZeroPadding2D)     (None, 113, 113, 96) 0           block_1_expand_relu[0][0]        \n",
            "__________________________________________________________________________________________________\n",
            "block_1_depthwise (DepthwiseCon (None, 56, 56, 96)   864         block_1_pad[0][0]                \n",
            "__________________________________________________________________________________________________\n",
            "block_1_depthwise_BN (BatchNorm (None, 56, 56, 96)   384         block_1_depthwise[0][0]          \n",
            "__________________________________________________________________________________________________\n",
            "block_1_depthwise_relu (ReLU)   (None, 56, 56, 96)   0           block_1_depthwise_BN[0][0]       \n",
            "__________________________________________________________________________________________________\n",
            "block_1_project (Conv2D)        (None, 56, 56, 24)   2304        block_1_depthwise_relu[0][0]     \n",
            "__________________________________________________________________________________________________\n",
            "block_1_project_BN (BatchNormal (None, 56, 56, 24)   96          block_1_project[0][0]            \n",
            "__________________________________________________________________________________________________\n",
            "block_2_expand (Conv2D)         (None, 56, 56, 144)  3456        block_1_project_BN[0][0]         \n",
            "__________________________________________________________________________________________________\n",
            "block_2_expand_BN (BatchNormali (None, 56, 56, 144)  576         block_2_expand[0][0]             \n",
            "__________________________________________________________________________________________________\n",
            "block_2_expand_relu (ReLU)      (None, 56, 56, 144)  0           block_2_expand_BN[0][0]          \n",
            "__________________________________________________________________________________________________\n",
            "block_2_depthwise (DepthwiseCon (None, 56, 56, 144)  1296        block_2_expand_relu[0][0]        \n",
            "__________________________________________________________________________________________________\n",
            "block_2_depthwise_BN (BatchNorm (None, 56, 56, 144)  576         block_2_depthwise[0][0]          \n",
            "__________________________________________________________________________________________________\n",
            "block_2_depthwise_relu (ReLU)   (None, 56, 56, 144)  0           block_2_depthwise_BN[0][0]       \n",
            "__________________________________________________________________________________________________\n",
            "block_2_project (Conv2D)        (None, 56, 56, 24)   3456        block_2_depthwise_relu[0][0]     \n",
            "__________________________________________________________________________________________________\n",
            "block_2_project_BN (BatchNormal (None, 56, 56, 24)   96          block_2_project[0][0]            \n",
            "__________________________________________________________________________________________________\n",
            "block_2_add (Add)               (None, 56, 56, 24)   0           block_1_project_BN[0][0]         \n",
            "                                                                 block_2_project_BN[0][0]         \n",
            "__________________________________________________________________________________________________\n",
            "block_3_expand (Conv2D)         (None, 56, 56, 144)  3456        block_2_add[0][0]                \n",
            "__________________________________________________________________________________________________\n",
            "block_3_expand_BN (BatchNormali (None, 56, 56, 144)  576         block_3_expand[0][0]             \n",
            "__________________________________________________________________________________________________\n",
            "block_3_expand_relu (ReLU)      (None, 56, 56, 144)  0           block_3_expand_BN[0][0]          \n",
            "__________________________________________________________________________________________________\n",
            "block_3_pad (ZeroPadding2D)     (None, 57, 57, 144)  0           block_3_expand_relu[0][0]        \n",
            "__________________________________________________________________________________________________\n",
            "block_3_depthwise (DepthwiseCon (None, 28, 28, 144)  1296        block_3_pad[0][0]                \n",
            "__________________________________________________________________________________________________\n",
            "block_3_depthwise_BN (BatchNorm (None, 28, 28, 144)  576         block_3_depthwise[0][0]          \n",
            "__________________________________________________________________________________________________\n",
            "block_3_depthwise_relu (ReLU)   (None, 28, 28, 144)  0           block_3_depthwise_BN[0][0]       \n",
            "__________________________________________________________________________________________________\n",
            "block_3_project (Conv2D)        (None, 28, 28, 32)   4608        block_3_depthwise_relu[0][0]     \n",
            "__________________________________________________________________________________________________\n",
            "block_3_project_BN (BatchNormal (None, 28, 28, 32)   128         block_3_project[0][0]            \n",
            "__________________________________________________________________________________________________\n",
            "block_4_expand (Conv2D)         (None, 28, 28, 192)  6144        block_3_project_BN[0][0]         \n",
            "__________________________________________________________________________________________________\n",
            "block_4_expand_BN (BatchNormali (None, 28, 28, 192)  768         block_4_expand[0][0]             \n",
            "__________________________________________________________________________________________________\n",
            "block_4_expand_relu (ReLU)      (None, 28, 28, 192)  0           block_4_expand_BN[0][0]          \n",
            "__________________________________________________________________________________________________\n",
            "block_4_depthwise (DepthwiseCon (None, 28, 28, 192)  1728        block_4_expand_relu[0][0]        \n",
            "__________________________________________________________________________________________________\n",
            "block_4_depthwise_BN (BatchNorm (None, 28, 28, 192)  768         block_4_depthwise[0][0]          \n",
            "__________________________________________________________________________________________________\n",
            "block_4_depthwise_relu (ReLU)   (None, 28, 28, 192)  0           block_4_depthwise_BN[0][0]       \n",
            "__________________________________________________________________________________________________\n",
            "block_4_project (Conv2D)        (None, 28, 28, 32)   6144        block_4_depthwise_relu[0][0]     \n",
            "__________________________________________________________________________________________________\n",
            "block_4_project_BN (BatchNormal (None, 28, 28, 32)   128         block_4_project[0][0]            \n",
            "__________________________________________________________________________________________________\n",
            "block_4_add (Add)               (None, 28, 28, 32)   0           block_3_project_BN[0][0]         \n",
            "                                                                 block_4_project_BN[0][0]         \n",
            "__________________________________________________________________________________________________\n",
            "block_5_expand (Conv2D)         (None, 28, 28, 192)  6144        block_4_add[0][0]                \n",
            "__________________________________________________________________________________________________\n",
            "block_5_expand_BN (BatchNormali (None, 28, 28, 192)  768         block_5_expand[0][0]             \n",
            "__________________________________________________________________________________________________\n",
            "block_5_expand_relu (ReLU)      (None, 28, 28, 192)  0           block_5_expand_BN[0][0]          \n",
            "__________________________________________________________________________________________________\n",
            "block_5_depthwise (DepthwiseCon (None, 28, 28, 192)  1728        block_5_expand_relu[0][0]        \n",
            "__________________________________________________________________________________________________\n",
            "block_5_depthwise_BN (BatchNorm (None, 28, 28, 192)  768         block_5_depthwise[0][0]          \n",
            "__________________________________________________________________________________________________\n",
            "block_5_depthwise_relu (ReLU)   (None, 28, 28, 192)  0           block_5_depthwise_BN[0][0]       \n",
            "__________________________________________________________________________________________________\n",
            "block_5_project (Conv2D)        (None, 28, 28, 32)   6144        block_5_depthwise_relu[0][0]     \n",
            "__________________________________________________________________________________________________\n",
            "block_5_project_BN (BatchNormal (None, 28, 28, 32)   128         block_5_project[0][0]            \n",
            "__________________________________________________________________________________________________\n",
            "block_5_add (Add)               (None, 28, 28, 32)   0           block_4_add[0][0]                \n",
            "                                                                 block_5_project_BN[0][0]         \n",
            "__________________________________________________________________________________________________\n",
            "block_6_expand (Conv2D)         (None, 28, 28, 192)  6144        block_5_add[0][0]                \n",
            "__________________________________________________________________________________________________\n",
            "block_6_expand_BN (BatchNormali (None, 28, 28, 192)  768         block_6_expand[0][0]             \n",
            "__________________________________________________________________________________________________\n",
            "block_6_expand_relu (ReLU)      (None, 28, 28, 192)  0           block_6_expand_BN[0][0]          \n",
            "__________________________________________________________________________________________________\n",
            "block_6_pad (ZeroPadding2D)     (None, 29, 29, 192)  0           block_6_expand_relu[0][0]        \n",
            "__________________________________________________________________________________________________\n",
            "block_6_depthwise (DepthwiseCon (None, 14, 14, 192)  1728        block_6_pad[0][0]                \n",
            "__________________________________________________________________________________________________\n",
            "block_6_depthwise_BN (BatchNorm (None, 14, 14, 192)  768         block_6_depthwise[0][0]          \n",
            "__________________________________________________________________________________________________\n",
            "block_6_depthwise_relu (ReLU)   (None, 14, 14, 192)  0           block_6_depthwise_BN[0][0]       \n",
            "__________________________________________________________________________________________________\n",
            "block_6_project (Conv2D)        (None, 14, 14, 64)   12288       block_6_depthwise_relu[0][0]     \n",
            "__________________________________________________________________________________________________\n",
            "block_6_project_BN (BatchNormal (None, 14, 14, 64)   256         block_6_project[0][0]            \n",
            "__________________________________________________________________________________________________\n",
            "block_7_expand (Conv2D)         (None, 14, 14, 384)  24576       block_6_project_BN[0][0]         \n",
            "__________________________________________________________________________________________________\n",
            "block_7_expand_BN (BatchNormali (None, 14, 14, 384)  1536        block_7_expand[0][0]             \n",
            "__________________________________________________________________________________________________\n",
            "block_7_expand_relu (ReLU)      (None, 14, 14, 384)  0           block_7_expand_BN[0][0]          \n",
            "__________________________________________________________________________________________________\n",
            "block_7_depthwise (DepthwiseCon (None, 14, 14, 384)  3456        block_7_expand_relu[0][0]        \n",
            "__________________________________________________________________________________________________\n",
            "block_7_depthwise_BN (BatchNorm (None, 14, 14, 384)  1536        block_7_depthwise[0][0]          \n",
            "__________________________________________________________________________________________________\n",
            "block_7_depthwise_relu (ReLU)   (None, 14, 14, 384)  0           block_7_depthwise_BN[0][0]       \n",
            "__________________________________________________________________________________________________\n",
            "block_7_project (Conv2D)        (None, 14, 14, 64)   24576       block_7_depthwise_relu[0][0]     \n",
            "__________________________________________________________________________________________________\n",
            "block_7_project_BN (BatchNormal (None, 14, 14, 64)   256         block_7_project[0][0]            \n",
            "__________________________________________________________________________________________________\n",
            "block_7_add (Add)               (None, 14, 14, 64)   0           block_6_project_BN[0][0]         \n",
            "                                                                 block_7_project_BN[0][0]         \n",
            "__________________________________________________________________________________________________\n",
            "block_8_expand (Conv2D)         (None, 14, 14, 384)  24576       block_7_add[0][0]                \n",
            "__________________________________________________________________________________________________\n",
            "block_8_expand_BN (BatchNormali (None, 14, 14, 384)  1536        block_8_expand[0][0]             \n",
            "__________________________________________________________________________________________________\n",
            "block_8_expand_relu (ReLU)      (None, 14, 14, 384)  0           block_8_expand_BN[0][0]          \n",
            "__________________________________________________________________________________________________\n",
            "block_8_depthwise (DepthwiseCon (None, 14, 14, 384)  3456        block_8_expand_relu[0][0]        \n",
            "__________________________________________________________________________________________________\n",
            "block_8_depthwise_BN (BatchNorm (None, 14, 14, 384)  1536        block_8_depthwise[0][0]          \n",
            "__________________________________________________________________________________________________\n",
            "block_8_depthwise_relu (ReLU)   (None, 14, 14, 384)  0           block_8_depthwise_BN[0][0]       \n",
            "__________________________________________________________________________________________________\n",
            "block_8_project (Conv2D)        (None, 14, 14, 64)   24576       block_8_depthwise_relu[0][0]     \n",
            "__________________________________________________________________________________________________\n",
            "block_8_project_BN (BatchNormal (None, 14, 14, 64)   256         block_8_project[0][0]            \n",
            "__________________________________________________________________________________________________\n",
            "block_8_add (Add)               (None, 14, 14, 64)   0           block_7_add[0][0]                \n",
            "                                                                 block_8_project_BN[0][0]         \n",
            "__________________________________________________________________________________________________\n",
            "block_9_expand (Conv2D)         (None, 14, 14, 384)  24576       block_8_add[0][0]                \n",
            "__________________________________________________________________________________________________\n",
            "block_9_expand_BN (BatchNormali (None, 14, 14, 384)  1536        block_9_expand[0][0]             \n",
            "__________________________________________________________________________________________________\n",
            "block_9_expand_relu (ReLU)      (None, 14, 14, 384)  0           block_9_expand_BN[0][0]          \n",
            "__________________________________________________________________________________________________\n",
            "block_9_depthwise (DepthwiseCon (None, 14, 14, 384)  3456        block_9_expand_relu[0][0]        \n",
            "__________________________________________________________________________________________________\n",
            "block_9_depthwise_BN (BatchNorm (None, 14, 14, 384)  1536        block_9_depthwise[0][0]          \n",
            "__________________________________________________________________________________________________\n",
            "block_9_depthwise_relu (ReLU)   (None, 14, 14, 384)  0           block_9_depthwise_BN[0][0]       \n",
            "__________________________________________________________________________________________________\n",
            "block_9_project (Conv2D)        (None, 14, 14, 64)   24576       block_9_depthwise_relu[0][0]     \n",
            "__________________________________________________________________________________________________\n",
            "block_9_project_BN (BatchNormal (None, 14, 14, 64)   256         block_9_project[0][0]            \n",
            "__________________________________________________________________________________________________\n",
            "block_9_add (Add)               (None, 14, 14, 64)   0           block_8_add[0][0]                \n",
            "                                                                 block_9_project_BN[0][0]         \n",
            "__________________________________________________________________________________________________\n",
            "block_10_expand (Conv2D)        (None, 14, 14, 384)  24576       block_9_add[0][0]                \n",
            "__________________________________________________________________________________________________\n",
            "block_10_expand_BN (BatchNormal (None, 14, 14, 384)  1536        block_10_expand[0][0]            \n",
            "__________________________________________________________________________________________________\n",
            "block_10_expand_relu (ReLU)     (None, 14, 14, 384)  0           block_10_expand_BN[0][0]         \n",
            "__________________________________________________________________________________________________\n",
            "block_10_depthwise (DepthwiseCo (None, 14, 14, 384)  3456        block_10_expand_relu[0][0]       \n",
            "__________________________________________________________________________________________________\n",
            "block_10_depthwise_BN (BatchNor (None, 14, 14, 384)  1536        block_10_depthwise[0][0]         \n",
            "__________________________________________________________________________________________________\n",
            "block_10_depthwise_relu (ReLU)  (None, 14, 14, 384)  0           block_10_depthwise_BN[0][0]      \n",
            "__________________________________________________________________________________________________\n",
            "block_10_project (Conv2D)       (None, 14, 14, 96)   36864       block_10_depthwise_relu[0][0]    \n",
            "__________________________________________________________________________________________________\n",
            "block_10_project_BN (BatchNorma (None, 14, 14, 96)   384         block_10_project[0][0]           \n",
            "__________________________________________________________________________________________________\n",
            "block_11_expand (Conv2D)        (None, 14, 14, 576)  55296       block_10_project_BN[0][0]        \n",
            "__________________________________________________________________________________________________\n",
            "block_11_expand_BN (BatchNormal (None, 14, 14, 576)  2304        block_11_expand[0][0]            \n",
            "__________________________________________________________________________________________________\n",
            "block_11_expand_relu (ReLU)     (None, 14, 14, 576)  0           block_11_expand_BN[0][0]         \n",
            "__________________________________________________________________________________________________\n",
            "block_11_depthwise (DepthwiseCo (None, 14, 14, 576)  5184        block_11_expand_relu[0][0]       \n",
            "__________________________________________________________________________________________________\n",
            "block_11_depthwise_BN (BatchNor (None, 14, 14, 576)  2304        block_11_depthwise[0][0]         \n",
            "__________________________________________________________________________________________________\n",
            "block_11_depthwise_relu (ReLU)  (None, 14, 14, 576)  0           block_11_depthwise_BN[0][0]      \n",
            "__________________________________________________________________________________________________\n",
            "block_11_project (Conv2D)       (None, 14, 14, 96)   55296       block_11_depthwise_relu[0][0]    \n",
            "__________________________________________________________________________________________________\n",
            "block_11_project_BN (BatchNorma (None, 14, 14, 96)   384         block_11_project[0][0]           \n",
            "__________________________________________________________________________________________________\n",
            "block_11_add (Add)              (None, 14, 14, 96)   0           block_10_project_BN[0][0]        \n",
            "                                                                 block_11_project_BN[0][0]        \n",
            "__________________________________________________________________________________________________\n",
            "block_12_expand (Conv2D)        (None, 14, 14, 576)  55296       block_11_add[0][0]               \n",
            "__________________________________________________________________________________________________\n",
            "block_12_expand_BN (BatchNormal (None, 14, 14, 576)  2304        block_12_expand[0][0]            \n",
            "__________________________________________________________________________________________________\n",
            "block_12_expand_relu (ReLU)     (None, 14, 14, 576)  0           block_12_expand_BN[0][0]         \n",
            "__________________________________________________________________________________________________\n",
            "block_12_depthwise (DepthwiseCo (None, 14, 14, 576)  5184        block_12_expand_relu[0][0]       \n",
            "__________________________________________________________________________________________________\n",
            "block_12_depthwise_BN (BatchNor (None, 14, 14, 576)  2304        block_12_depthwise[0][0]         \n",
            "__________________________________________________________________________________________________\n",
            "block_12_depthwise_relu (ReLU)  (None, 14, 14, 576)  0           block_12_depthwise_BN[0][0]      \n",
            "__________________________________________________________________________________________________\n",
            "block_12_project (Conv2D)       (None, 14, 14, 96)   55296       block_12_depthwise_relu[0][0]    \n",
            "__________________________________________________________________________________________________\n",
            "block_12_project_BN (BatchNorma (None, 14, 14, 96)   384         block_12_project[0][0]           \n",
            "__________________________________________________________________________________________________\n",
            "block_12_add (Add)              (None, 14, 14, 96)   0           block_11_add[0][0]               \n",
            "                                                                 block_12_project_BN[0][0]        \n",
            "__________________________________________________________________________________________________\n",
            "block_13_expand (Conv2D)        (None, 14, 14, 576)  55296       block_12_add[0][0]               \n",
            "__________________________________________________________________________________________________\n",
            "block_13_expand_BN (BatchNormal (None, 14, 14, 576)  2304        block_13_expand[0][0]            \n",
            "__________________________________________________________________________________________________\n",
            "block_13_expand_relu (ReLU)     (None, 14, 14, 576)  0           block_13_expand_BN[0][0]         \n",
            "__________________________________________________________________________________________________\n",
            "block_13_pad (ZeroPadding2D)    (None, 15, 15, 576)  0           block_13_expand_relu[0][0]       \n",
            "__________________________________________________________________________________________________\n",
            "block_13_depthwise (DepthwiseCo (None, 7, 7, 576)    5184        block_13_pad[0][0]               \n",
            "__________________________________________________________________________________________________\n",
            "block_13_depthwise_BN (BatchNor (None, 7, 7, 576)    2304        block_13_depthwise[0][0]         \n",
            "__________________________________________________________________________________________________\n",
            "block_13_depthwise_relu (ReLU)  (None, 7, 7, 576)    0           block_13_depthwise_BN[0][0]      \n",
            "__________________________________________________________________________________________________\n",
            "block_13_project (Conv2D)       (None, 7, 7, 160)    92160       block_13_depthwise_relu[0][0]    \n",
            "__________________________________________________________________________________________________\n",
            "block_13_project_BN (BatchNorma (None, 7, 7, 160)    640         block_13_project[0][0]           \n",
            "__________________________________________________________________________________________________\n",
            "block_14_expand (Conv2D)        (None, 7, 7, 960)    153600      block_13_project_BN[0][0]        \n",
            "__________________________________________________________________________________________________\n",
            "block_14_expand_BN (BatchNormal (None, 7, 7, 960)    3840        block_14_expand[0][0]            \n",
            "__________________________________________________________________________________________________\n",
            "block_14_expand_relu (ReLU)     (None, 7, 7, 960)    0           block_14_expand_BN[0][0]         \n",
            "__________________________________________________________________________________________________\n",
            "block_14_depthwise (DepthwiseCo (None, 7, 7, 960)    8640        block_14_expand_relu[0][0]       \n",
            "__________________________________________________________________________________________________\n",
            "block_14_depthwise_BN (BatchNor (None, 7, 7, 960)    3840        block_14_depthwise[0][0]         \n",
            "__________________________________________________________________________________________________\n",
            "block_14_depthwise_relu (ReLU)  (None, 7, 7, 960)    0           block_14_depthwise_BN[0][0]      \n",
            "__________________________________________________________________________________________________\n",
            "block_14_project (Conv2D)       (None, 7, 7, 160)    153600      block_14_depthwise_relu[0][0]    \n",
            "__________________________________________________________________________________________________\n",
            "block_14_project_BN (BatchNorma (None, 7, 7, 160)    640         block_14_project[0][0]           \n",
            "__________________________________________________________________________________________________\n",
            "block_14_add (Add)              (None, 7, 7, 160)    0           block_13_project_BN[0][0]        \n",
            "                                                                 block_14_project_BN[0][0]        \n",
            "__________________________________________________________________________________________________\n",
            "block_15_expand (Conv2D)        (None, 7, 7, 960)    153600      block_14_add[0][0]               \n",
            "__________________________________________________________________________________________________\n",
            "block_15_expand_BN (BatchNormal (None, 7, 7, 960)    3840        block_15_expand[0][0]            \n",
            "__________________________________________________________________________________________________\n",
            "block_15_expand_relu (ReLU)     (None, 7, 7, 960)    0           block_15_expand_BN[0][0]         \n",
            "__________________________________________________________________________________________________\n",
            "block_15_depthwise (DepthwiseCo (None, 7, 7, 960)    8640        block_15_expand_relu[0][0]       \n",
            "__________________________________________________________________________________________________\n",
            "block_15_depthwise_BN (BatchNor (None, 7, 7, 960)    3840        block_15_depthwise[0][0]         \n",
            "__________________________________________________________________________________________________\n",
            "block_15_depthwise_relu (ReLU)  (None, 7, 7, 960)    0           block_15_depthwise_BN[0][0]      \n",
            "__________________________________________________________________________________________________\n",
            "block_15_project (Conv2D)       (None, 7, 7, 160)    153600      block_15_depthwise_relu[0][0]    \n",
            "__________________________________________________________________________________________________\n",
            "block_15_project_BN (BatchNorma (None, 7, 7, 160)    640         block_15_project[0][0]           \n",
            "__________________________________________________________________________________________________\n",
            "block_15_add (Add)              (None, 7, 7, 160)    0           block_14_add[0][0]               \n",
            "                                                                 block_15_project_BN[0][0]        \n",
            "__________________________________________________________________________________________________\n",
            "block_16_expand (Conv2D)        (None, 7, 7, 960)    153600      block_15_add[0][0]               \n",
            "__________________________________________________________________________________________________\n",
            "block_16_expand_BN (BatchNormal (None, 7, 7, 960)    3840        block_16_expand[0][0]            \n",
            "__________________________________________________________________________________________________\n",
            "block_16_expand_relu (ReLU)     (None, 7, 7, 960)    0           block_16_expand_BN[0][0]         \n",
            "__________________________________________________________________________________________________\n",
            "block_16_depthwise (DepthwiseCo (None, 7, 7, 960)    8640        block_16_expand_relu[0][0]       \n",
            "__________________________________________________________________________________________________\n",
            "block_16_depthwise_BN (BatchNor (None, 7, 7, 960)    3840        block_16_depthwise[0][0]         \n",
            "__________________________________________________________________________________________________\n",
            "block_16_depthwise_relu (ReLU)  (None, 7, 7, 960)    0           block_16_depthwise_BN[0][0]      \n",
            "__________________________________________________________________________________________________\n",
            "block_16_project (Conv2D)       (None, 7, 7, 320)    307200      block_16_depthwise_relu[0][0]    \n",
            "__________________________________________________________________________________________________\n",
            "block_16_project_BN (BatchNorma (None, 7, 7, 320)    1280        block_16_project[0][0]           \n",
            "__________________________________________________________________________________________________\n",
            "Conv_1 (Conv2D)                 (None, 7, 7, 1280)   409600      block_16_project_BN[0][0]        \n",
            "__________________________________________________________________________________________________\n",
            "Conv_1_bn (BatchNormalization)  (None, 7, 7, 1280)   5120        Conv_1[0][0]                     \n",
            "__________________________________________________________________________________________________\n",
            "out_relu (ReLU)                 (None, 7, 7, 1280)   0           Conv_1_bn[0][0]                  \n",
            "__________________________________________________________________________________________________\n",
            "global_average_pooling2d (Globa (None, 1280)         0           out_relu[0][0]                   \n",
            "__________________________________________________________________________________________________\n",
            "dropout (Dropout)               (None, 1280)         0           global_average_pooling2d[0][0]   \n",
            "__________________________________________________________________________________________________\n",
            "dense (Dense)                   (None, 3)            3843        dropout[0][0]                    \n",
            "==================================================================================================\n",
            "Total params: 2,261,827\n",
            "Trainable params: 2,227,715\n",
            "Non-trainable params: 34,112\n",
            "__________________________________________________________________________________________________\n"
          ],
          "name": "stdout"
        }
      ]
    },
    {
      "cell_type": "markdown",
      "metadata": {
        "id": "YMklbdNy1U89"
      },
      "source": [
        "# Create dataframe"
      ]
    },
    {
      "cell_type": "code",
      "metadata": {
        "colab": {
          "base_uri": "https://localhost:8080/",
          "height": 258
        },
        "id": "Wk-EPryBjuvN",
        "outputId": "963bcb8c-78c9-4414-f213-02a7b6f964e3"
      },
      "source": [
        "directories = ['/normal']\n",
        "categories = []\n",
        "filenames = []\n",
        "    \n",
        "files = os.listdir(path + directories[0])\n",
        "\n",
        "for img in files:\n",
        "    categories.append(0)\n",
        "    filenames.append(path+directories[0]+\"/\"+img)\n",
        "\n",
        "files.sort()\n",
        "df_NORMAL = pd.DataFrame({\n",
        "    'filename': filenames,\n",
        "    'category': categories\n",
        "})\n",
        "\n",
        "print(df_NORMAL.shape[0])\n",
        "df_NORMAL.head()\n",
        "\n",
        "directories = ['/pneumonia']\n",
        "categories = []\n",
        "filenames = []\n",
        "    \n",
        "files = os.listdir(path + directories[0])\n",
        "\n",
        "for img in files:\n",
        "    categories.append(2)\n",
        "    filenames.append(path+directories[0]+\"/\"+img)\n",
        "\n",
        "files.sort()\n",
        "df_PNEUMONIA = pd.DataFrame({\n",
        "    'filename': filenames,\n",
        "    'category': categories\n",
        "})\n",
        "\n",
        "print(df_PNEUMONIA.shape[0])\n",
        "df_PNEUMONIA.head()\n",
        "\n",
        "directories = ['/covid']\n",
        "categories = []\n",
        "filenames = []\n",
        "    \n",
        "files = os.listdir(path + directories[0])\n",
        "\n",
        "for img in files:\n",
        "    categories.append(1)\n",
        "    filenames.append(path+directories[0]+\"/\"+img)\n",
        "\n",
        "files.sort()\n",
        "df_COVID = pd.DataFrame({\n",
        "    'filename': filenames,\n",
        "    'category': categories\n",
        "})\n",
        "\n",
        "print(df_COVID.shape[0])\n",
        "df_COVID.head()\n"
      ],
      "execution_count": null,
      "outputs": [
        {
          "output_type": "stream",
          "text": [
            "1583\n",
            "4273\n",
            "3616\n"
          ],
          "name": "stdout"
        },
        {
          "output_type": "execute_result",
          "data": {
            "text/html": [
              "<div>\n",
              "<style scoped>\n",
              "    .dataframe tbody tr th:only-of-type {\n",
              "        vertical-align: middle;\n",
              "    }\n",
              "\n",
              "    .dataframe tbody tr th {\n",
              "        vertical-align: top;\n",
              "    }\n",
              "\n",
              "    .dataframe thead th {\n",
              "        text-align: right;\n",
              "    }\n",
              "</style>\n",
              "<table border=\"1\" class=\"dataframe\">\n",
              "  <thead>\n",
              "    <tr style=\"text-align: right;\">\n",
              "      <th></th>\n",
              "      <th>filename</th>\n",
              "      <th>category</th>\n",
              "    </tr>\n",
              "  </thead>\n",
              "  <tbody>\n",
              "    <tr>\n",
              "      <th>0</th>\n",
              "      <td>/content/pauldataset/covid/COVID-3084.png</td>\n",
              "      <td>1</td>\n",
              "    </tr>\n",
              "    <tr>\n",
              "      <th>1</th>\n",
              "      <td>/content/pauldataset/covid/COVID-2997.png</td>\n",
              "      <td>1</td>\n",
              "    </tr>\n",
              "    <tr>\n",
              "      <th>2</th>\n",
              "      <td>/content/pauldataset/covid/COVID-2805.png</td>\n",
              "      <td>1</td>\n",
              "    </tr>\n",
              "    <tr>\n",
              "      <th>3</th>\n",
              "      <td>/content/pauldataset/covid/COVID-2145.png</td>\n",
              "      <td>1</td>\n",
              "    </tr>\n",
              "    <tr>\n",
              "      <th>4</th>\n",
              "      <td>/content/pauldataset/covid/COVID-414.png</td>\n",
              "      <td>1</td>\n",
              "    </tr>\n",
              "  </tbody>\n",
              "</table>\n",
              "</div>"
            ],
            "text/plain": [
              "                                    filename  category\n",
              "0  /content/pauldataset/covid/COVID-3084.png         1\n",
              "1  /content/pauldataset/covid/COVID-2997.png         1\n",
              "2  /content/pauldataset/covid/COVID-2805.png         1\n",
              "3  /content/pauldataset/covid/COVID-2145.png         1\n",
              "4   /content/pauldataset/covid/COVID-414.png         1"
            ]
          },
          "metadata": {},
          "execution_count": 22
        }
      ]
    },
    {
      "cell_type": "code",
      "metadata": {
        "id": "h1FCEOXZwr8T"
      },
      "source": [
        "pd.options.display.max_colwidth = 100"
      ],
      "execution_count": null,
      "outputs": []
    },
    {
      "cell_type": "code",
      "metadata": {
        "id": "_9FBZwQESwpG"
      },
      "source": [
        "df_NORMAL, df_NORMAL_evaluation = train_test_split(df_NORMAL, test_size=0.40)\n",
        "df_PNEUMONIA, df_PNEUMONIA_evaluation = train_test_split(df_PNEUMONIA, test_size=0.40)\n",
        "df_COVID, df_COVID_evaluation = train_test_split(df_COVID, test_size=0.40)\n",
        "\n",
        "df_NORMAL_test, df_NORMAL_val = train_test_split(df_NORMAL_evaluation, test_size=0.50)\n",
        "df_PNEUMONIA_test, df_PNEUMONIA_val = train_test_split(df_PNEUMONIA_evaluation, test_size=0.50)\n",
        "df_COVID_test, df_COVID_val = train_test_split(df_COVID_evaluation, test_size=0.50)\n",
        "\n",
        "train_df = pd.concat([df_NORMAL, df_PNEUMONIA, df_COVID])\n",
        "test_df = pd.concat([df_NORMAL_test, df_PNEUMONIA_test, df_COVID_test])\n",
        "validation_df = pd.concat([df_NORMAL_val, df_PNEUMONIA_val, df_COVID_val])"
      ],
      "execution_count": null,
      "outputs": []
    },
    {
      "cell_type": "code",
      "metadata": {
        "colab": {
          "base_uri": "https://localhost:8080/"
        },
        "id": "jGlNDF_-YZ-H",
        "outputId": "d1994e15-2bba-4634-aa2d-9b9d32c5bf12"
      },
      "source": [
        "train_df[\"category\"].value_counts()"
      ],
      "execution_count": null,
      "outputs": [
        {
          "output_type": "execute_result",
          "data": {
            "text/plain": [
              "2    2563\n",
              "1    2169\n",
              "0     949\n",
              "Name: category, dtype: int64"
            ]
          },
          "metadata": {},
          "execution_count": 25
        }
      ]
    },
    {
      "cell_type": "code",
      "metadata": {
        "colab": {
          "base_uri": "https://localhost:8080/"
        },
        "id": "dn4ku5MPYk0E",
        "outputId": "926ab76e-9d9c-4e25-9275-fd9eabcb6fa0"
      },
      "source": [
        "test_df[\"category\"].value_counts()"
      ],
      "execution_count": null,
      "outputs": [
        {
          "output_type": "execute_result",
          "data": {
            "text/plain": [
              "2    855\n",
              "1    723\n",
              "0    317\n",
              "Name: category, dtype: int64"
            ]
          },
          "metadata": {},
          "execution_count": 26
        }
      ]
    },
    {
      "cell_type": "code",
      "metadata": {
        "colab": {
          "base_uri": "https://localhost:8080/"
        },
        "id": "YoshpGmkYsKD",
        "outputId": "0be32e61-84a3-4ce7-cca4-862f173504de"
      },
      "source": [
        "validation_df[\"category\"].value_counts()"
      ],
      "execution_count": null,
      "outputs": [
        {
          "output_type": "execute_result",
          "data": {
            "text/plain": [
              "2    855\n",
              "1    724\n",
              "0    317\n",
              "Name: category, dtype: int64"
            ]
          },
          "metadata": {},
          "execution_count": 27
        }
      ]
    },
    {
      "cell_type": "code",
      "metadata": {
        "colab": {
          "base_uri": "https://localhost:8080/",
          "height": 419
        },
        "id": "6maYfutsWGfG",
        "outputId": "44ba94b3-aaee-42bb-8361-24244a6b62a7"
      },
      "source": [
        "# shuffle data\n",
        "train_df = train_df.sample(frac=1).reset_index(drop = True)\n",
        "test_df = test_df.sample(frac=1).reset_index(drop = True)\n",
        "validation_df = validation_df.sample(frac=1).reset_index(drop = True)\n",
        "train_df"
      ],
      "execution_count": null,
      "outputs": [
        {
          "output_type": "execute_result",
          "data": {
            "text/html": [
              "<div>\n",
              "<style scoped>\n",
              "    .dataframe tbody tr th:only-of-type {\n",
              "        vertical-align: middle;\n",
              "    }\n",
              "\n",
              "    .dataframe tbody tr th {\n",
              "        vertical-align: top;\n",
              "    }\n",
              "\n",
              "    .dataframe thead th {\n",
              "        text-align: right;\n",
              "    }\n",
              "</style>\n",
              "<table border=\"1\" class=\"dataframe\">\n",
              "  <thead>\n",
              "    <tr style=\"text-align: right;\">\n",
              "      <th></th>\n",
              "      <th>filename</th>\n",
              "      <th>category</th>\n",
              "    </tr>\n",
              "  </thead>\n",
              "  <tbody>\n",
              "    <tr>\n",
              "      <th>0</th>\n",
              "      <td>/content/pauldataset/normal/NORMAL2-IM-1266-0001-0002.jpeg</td>\n",
              "      <td>0</td>\n",
              "    </tr>\n",
              "    <tr>\n",
              "      <th>1</th>\n",
              "      <td>/content/pauldataset/normal/NORMAL2-IM-0478-0001.jpeg</td>\n",
              "      <td>0</td>\n",
              "    </tr>\n",
              "    <tr>\n",
              "      <th>2</th>\n",
              "      <td>/content/pauldataset/pneumonia/person749_bacteria_2652.jpeg</td>\n",
              "      <td>2</td>\n",
              "    </tr>\n",
              "    <tr>\n",
              "      <th>3</th>\n",
              "      <td>/content/pauldataset/covid/COVID-3500.png</td>\n",
              "      <td>1</td>\n",
              "    </tr>\n",
              "    <tr>\n",
              "      <th>4</th>\n",
              "      <td>/content/pauldataset/covid/COVID-1507.png</td>\n",
              "      <td>1</td>\n",
              "    </tr>\n",
              "    <tr>\n",
              "      <th>...</th>\n",
              "      <td>...</td>\n",
              "      <td>...</td>\n",
              "    </tr>\n",
              "    <tr>\n",
              "      <th>5676</th>\n",
              "      <td>/content/pauldataset/covid/COVID-2766.png</td>\n",
              "      <td>1</td>\n",
              "    </tr>\n",
              "    <tr>\n",
              "      <th>5677</th>\n",
              "      <td>/content/pauldataset/covid/COVID-89.png</td>\n",
              "      <td>1</td>\n",
              "    </tr>\n",
              "    <tr>\n",
              "      <th>5678</th>\n",
              "      <td>/content/pauldataset/covid/COVID-861.png</td>\n",
              "      <td>1</td>\n",
              "    </tr>\n",
              "    <tr>\n",
              "      <th>5679</th>\n",
              "      <td>/content/pauldataset/covid/COVID-348.png</td>\n",
              "      <td>1</td>\n",
              "    </tr>\n",
              "    <tr>\n",
              "      <th>5680</th>\n",
              "      <td>/content/pauldataset/pneumonia/person336_bacteria_1550.jpeg</td>\n",
              "      <td>2</td>\n",
              "    </tr>\n",
              "  </tbody>\n",
              "</table>\n",
              "<p>5681 rows × 2 columns</p>\n",
              "</div>"
            ],
            "text/plain": [
              "                                                         filename  category\n",
              "0      /content/pauldataset/normal/NORMAL2-IM-1266-0001-0002.jpeg         0\n",
              "1           /content/pauldataset/normal/NORMAL2-IM-0478-0001.jpeg         0\n",
              "2     /content/pauldataset/pneumonia/person749_bacteria_2652.jpeg         2\n",
              "3                       /content/pauldataset/covid/COVID-3500.png         1\n",
              "4                       /content/pauldataset/covid/COVID-1507.png         1\n",
              "...                                                           ...       ...\n",
              "5676                    /content/pauldataset/covid/COVID-2766.png         1\n",
              "5677                      /content/pauldataset/covid/COVID-89.png         1\n",
              "5678                     /content/pauldataset/covid/COVID-861.png         1\n",
              "5679                     /content/pauldataset/covid/COVID-348.png         1\n",
              "5680  /content/pauldataset/pneumonia/person336_bacteria_1550.jpeg         2\n",
              "\n",
              "[5681 rows x 2 columns]"
            ]
          },
          "metadata": {},
          "execution_count": 28
        }
      ]
    },
    {
      "cell_type": "code",
      "metadata": {
        "colab": {
          "base_uri": "https://localhost:8080/",
          "height": 280
        },
        "id": "IVxItBdMo8M4",
        "outputId": "ee9b30ad-8e57-47de-9b7e-9578822e5da1"
      },
      "source": [
        "train_df['category'].value_counts().plot.bar()"
      ],
      "execution_count": null,
      "outputs": [
        {
          "output_type": "execute_result",
          "data": {
            "text/plain": [
              "<matplotlib.axes._subplots.AxesSubplot at 0x7fca00381b50>"
            ]
          },
          "metadata": {},
          "execution_count": 29
        },
        {
          "output_type": "display_data",
          "data": {
            "image/png": "[encoded data removed]",
            "text/plain": [
              "<Figure size 432x288 with 1 Axes>"
            ]
          },
          "metadata": {
            "needs_background": "light"
          }
        }
      ]
    },
    {
      "cell_type": "markdown",
      "metadata": {
        "id": "E2wLsvCd8NUk"
      },
      "source": [
        "train/val/test split - 60% | 20% | 20%"
      ]
    },
    {
      "cell_type": "code",
      "metadata": {
        "colab": {
          "base_uri": "https://localhost:8080/"
        },
        "id": "KO_7XLVYEcaR",
        "outputId": "45793ee4-8706-4628-94b4-b2a30f95601e"
      },
      "source": [
        "batch_size = 32\n",
        "train_df[\"category\"] = train_df[\"category\"].replace({0: 'Normal', 1: 'Covid', 2:'Pneumonia'})\n",
        "test_df[\"category\"] = test_df[\"category\"].replace({0: 'Normal', 1: 'Covid', 2:'Pneumonia'})\n",
        "validation_df[\"category\"] = validation_df[\"category\"].replace({0: 'Normal', 1: 'Covid', 2:'Pneumonia'})\n",
        "\n",
        "test_generator_eval = ImageDataGenerator(rescale=1./255).flow_from_dataframe (\n",
        "        test_df, \n",
        "        x_col = 'filename',\n",
        "        y_col = 'category',\n",
        "        target_size = IMAGE_SIZE,\n",
        "        class_mode = 'categorical',\n",
        "        batch_size = batch_size,\n",
        "        shuffle = False\n",
        "    )\n",
        "\n",
        "train_generator = ImageDataGenerator(\n",
        "    rescale=1./255,\n",
        "    width_shift_range = 0.1,\n",
        "    height_shift_range = 0.1\n",
        "    ).flow_from_dataframe (\n",
        "        train_df, \n",
        "        x_col = 'filename',\n",
        "        y_col = 'category',\n",
        "        target_size = IMAGE_SIZE,\n",
        "        class_mode = 'categorical',\n",
        "        batch_size = batch_size,\n",
        "        seed = 123\n",
        "    )\n",
        "\n",
        "val_generator = ImageDataGenerator(rescale=1./255).flow_from_dataframe (\n",
        "        validation_df, \n",
        "        x_col = 'filename',\n",
        "        y_col = 'category',\n",
        "        target_size = IMAGE_SIZE,\n",
        "        class_mode = 'categorical',\n",
        "        batch_size = batch_size,\n",
        "        seed = 123\n",
        "    )"
      ],
      "execution_count": null,
      "outputs": [
        {
          "output_type": "stream",
          "text": [
            "Found 1895 validated image filenames belonging to 3 classes.\n",
            "Found 5681 validated image filenames belonging to 3 classes.\n",
            "Found 1896 validated image filenames belonging to 3 classes.\n"
          ],
          "name": "stdout"
        }
      ]
    },
    {
      "cell_type": "code",
      "metadata": {
        "colab": {
          "base_uri": "https://localhost:8080/",
          "height": 681
        },
        "id": "HTfhU3HKUVkr",
        "outputId": "bf9208d8-657a-4fa3-c2be-408d1302bc06"
      },
      "source": [
        "plt.figure(figsize=(10, 10))\n",
        "batch=next(train_generator)  # returns the next batch of images and labels \n",
        "print(batch[0].shape) # batch[0] is the images, batch[1] are the labels\n",
        "\n",
        "for i in range(9):\n",
        "  ax = plt.subplot(3, 3, i + 1)\n",
        "  img=batch[0][i]\n",
        "  plt.title(batch[1][i])\n",
        "  plt.imshow(img)  "
      ],
      "execution_count": null,
      "outputs": [
        {
          "output_type": "stream",
          "text": [
            "(32, 224, 224, 3)\n"
          ],
          "name": "stdout"
        },
        {
          "output_type": "stream",
          "text": [
            "/usr/local/lib/python3.7/dist-packages/matplotlib/text.py:1165: FutureWarning: elementwise comparison failed; returning scalar instead, but in the future will perform elementwise comparison\n",
            "  if s != self._text:\n"
          ],
          "name": "stderr"
        },
        {
          "output_type": "display_data",
          "data": {
            "image/png": "[encoded data removed]",
            "text/plain": [
              "<Figure size 720x720 with 9 Axes>"
            ]
          },
          "metadata": {
            "needs_background": "light"
          }
        }
      ]
    },
    {
      "cell_type": "markdown",
      "metadata": {
        "id": "xUWX9AGLUb_V"
      },
      "source": [
        "# Model"
      ]
    },
    {
      "cell_type": "code",
      "metadata": {
        "id": "68qymwwmFe_s"
      },
      "source": [
        "model = CNNModel()\n",
        "\n",
        "model.compile(optimizer=tf.keras.optimizers.RMSprop(learning_rate= 0.0001),\n",
        "              loss=tf.keras.losses.CategoricalCrossentropy(),\n",
        "              metrics=['accuracy'])\n",
        "\n",
        "# model.compile(optimizer=tf.keras.optimizers.Adam(learning_rate=0.0001),\n",
        "#               loss=tf.keras.losses.CategoricalCrossentropy(),\n",
        "#               metrics=['accuracy'])"
      ],
      "execution_count": null,
      "outputs": []
    },
    {
      "cell_type": "code",
      "metadata": {
        "id": "ZqitRIDnnvKb"
      },
      "source": [
        "# early_stopping = EarlyStopping(patience=10, verbose=1)\n",
        "model_checkpoint = ModelCheckpoint(save_model_path, save_best_only=True, verbose=1)\n",
        "reduce_lr = ReduceLROnPlateau(factor=0.1, patience=5, min_lr=0.00001, verbose=1)"
      ],
      "execution_count": null,
      "outputs": []
    },
    {
      "cell_type": "code",
      "metadata": {
        "id": "vSy6iOvAcg5U",
        "colab": {
          "base_uri": "https://localhost:8080/"
        },
        "outputId": "35cf11a6-6831-4e43-d836-877bf8b8e03d"
      },
      "source": [
        "epochs = 40\n",
        "history = model.fit(train_generator,\n",
        "                    validation_data=val_generator, \n",
        "                    epochs=epochs,\n",
        "                    batch_size=batch_size,\n",
        "                    callbacks=[model_checkpoint, reduce_lr])"
      ],
      "execution_count": null,
      "outputs": [
        {
          "output_type": "stream",
          "text": [
            "Epoch 1/40\n",
            "178/178 [==============================] - 181s 799ms/step - loss: 0.1557 - accuracy: 0.9449 - val_loss: 0.5449 - val_accuracy: 0.8133\n",
            "\n",
            "Epoch 00001: val_loss improved from inf to 0.54487, saving model to /content/drive/Shareddrives/fyp/models/mobileNet/Hash/MobileNetV2_dasa_(V9).h5\n"
          ],
          "name": "stdout"
        },
        {
          "output_type": "stream",
          "text": [
            "/usr/local/lib/python3.7/dist-packages/keras/utils/generic_utils.py:497: CustomMaskWarning: Custom mask layers require a config and must override get_config. When loading, the custom mask layer must be passed to the custom_objects argument.\n",
            "  category=CustomMaskWarning)\n"
          ],
          "name": "stderr"
        },
        {
          "output_type": "stream",
          "text": [
            "Epoch 2/40\n",
            "178/178 [==============================] - 141s 792ms/step - loss: 0.0701 - accuracy: 0.9773 - val_loss: 0.5571 - val_accuracy: 0.8085\n",
            "\n",
            "Epoch 00002: val_loss did not improve from 0.54487\n",
            "Epoch 3/40\n",
            "178/178 [==============================] - 139s 780ms/step - loss: 0.0579 - accuracy: 0.9812 - val_loss: 0.7546 - val_accuracy: 0.8312\n",
            "\n",
            "Epoch 00003: val_loss did not improve from 0.54487\n",
            "Epoch 4/40\n",
            "178/178 [==============================] - 141s 792ms/step - loss: 0.0492 - accuracy: 0.9835 - val_loss: 1.3837 - val_accuracy: 0.7621\n",
            "\n",
            "Epoch 00004: val_loss did not improve from 0.54487\n",
            "Epoch 5/40\n",
            "178/178 [==============================] - 142s 794ms/step - loss: 0.0394 - accuracy: 0.9859 - val_loss: 0.6787 - val_accuracy: 0.8423\n",
            "\n",
            "Epoch 00005: val_loss did not improve from 0.54487\n",
            "Epoch 6/40\n",
            "178/178 [==============================] - 142s 795ms/step - loss: 0.0365 - accuracy: 0.9864 - val_loss: 0.9593 - val_accuracy: 0.8444\n",
            "\n",
            "Epoch 00006: val_loss did not improve from 0.54487\n",
            "\n",
            "Epoch 00006: ReduceLROnPlateau reducing learning rate to 1e-05.\n",
            "Epoch 7/40\n",
            "178/178 [==============================] - 140s 786ms/step - loss: 0.0158 - accuracy: 0.9940 - val_loss: 0.7250 - val_accuracy: 0.8618\n",
            "\n",
            "Epoch 00007: val_loss did not improve from 0.54487\n",
            "Epoch 8/40\n",
            "178/178 [==============================] - 141s 788ms/step - loss: 0.0148 - accuracy: 0.9944 - val_loss: 0.6156 - val_accuracy: 0.8708\n",
            "\n",
            "Epoch 00008: val_loss did not improve from 0.54487\n",
            "Epoch 9/40\n",
            "178/178 [==============================] - 141s 791ms/step - loss: 0.0102 - accuracy: 0.9960 - val_loss: 0.5266 - val_accuracy: 0.8855\n",
            "\n",
            "Epoch 00009: val_loss improved from 0.54487 to 0.52660, saving model to /content/drive/Shareddrives/fyp/models/mobileNet/Hash/MobileNetV2_dasa_(V9).h5\n",
            "Epoch 10/40\n",
            "178/178 [==============================] - 142s 795ms/step - loss: 0.0106 - accuracy: 0.9967 - val_loss: 0.4345 - val_accuracy: 0.8935\n",
            "\n",
            "Epoch 00010: val_loss improved from 0.52660 to 0.43451, saving model to /content/drive/Shareddrives/fyp/models/mobileNet/Hash/MobileNetV2_dasa_(V9).h5\n",
            "Epoch 11/40\n",
            "178/178 [==============================] - 143s 799ms/step - loss: 0.0097 - accuracy: 0.9967 - val_loss: 0.3858 - val_accuracy: 0.9061\n",
            "\n",
            "Epoch 00011: val_loss improved from 0.43451 to 0.38581, saving model to /content/drive/Shareddrives/fyp/models/mobileNet/Hash/MobileNetV2_dasa_(V9).h5\n",
            "Epoch 12/40\n",
            "178/178 [==============================] - 142s 796ms/step - loss: 0.0068 - accuracy: 0.9975 - val_loss: 0.3213 - val_accuracy: 0.9182\n",
            "\n",
            "Epoch 00012: val_loss improved from 0.38581 to 0.32133, saving model to /content/drive/Shareddrives/fyp/models/mobileNet/Hash/MobileNetV2_dasa_(V9).h5\n",
            "Epoch 13/40\n",
            "178/178 [==============================] - 141s 792ms/step - loss: 0.0056 - accuracy: 0.9981 - val_loss: 0.2841 - val_accuracy: 0.9241\n",
            "\n",
            "Epoch 00013: val_loss improved from 0.32133 to 0.28408, saving model to /content/drive/Shareddrives/fyp/models/mobileNet/Hash/MobileNetV2_dasa_(V9).h5\n",
            "Epoch 14/40\n",
            "178/178 [==============================] - 140s 784ms/step - loss: 0.0061 - accuracy: 0.9979 - val_loss: 0.2836 - val_accuracy: 0.9241\n",
            "\n",
            "Epoch 00014: val_loss improved from 0.28408 to 0.28361, saving model to /content/drive/Shareddrives/fyp/models/mobileNet/Hash/MobileNetV2_dasa_(V9).h5\n",
            "Epoch 15/40\n",
            "178/178 [==============================] - 142s 794ms/step - loss: 0.0051 - accuracy: 0.9984 - val_loss: 0.2444 - val_accuracy: 0.9341\n",
            "\n",
            "Epoch 00015: val_loss improved from 0.28361 to 0.24436, saving model to /content/drive/Shareddrives/fyp/models/mobileNet/Hash/MobileNetV2_dasa_(V9).h5\n",
            "Epoch 16/40\n",
            "178/178 [==============================] - 139s 781ms/step - loss: 0.0048 - accuracy: 0.9989 - val_loss: 0.2448 - val_accuracy: 0.9320\n",
            "\n",
            "Epoch 00016: val_loss did not improve from 0.24436\n",
            "Epoch 17/40\n",
            "178/178 [==============================] - 141s 789ms/step - loss: 0.0053 - accuracy: 0.9981 - val_loss: 0.2031 - val_accuracy: 0.9462\n",
            "\n",
            "Epoch 00017: val_loss improved from 0.24436 to 0.20311, saving model to /content/drive/Shareddrives/fyp/models/mobileNet/Hash/MobileNetV2_dasa_(V9).h5\n",
            "Epoch 18/40\n",
            "178/178 [==============================] - 140s 785ms/step - loss: 0.0049 - accuracy: 0.9984 - val_loss: 0.1978 - val_accuracy: 0.9488\n",
            "\n",
            "Epoch 00018: val_loss improved from 0.20311 to 0.19776, saving model to /content/drive/Shareddrives/fyp/models/mobileNet/Hash/MobileNetV2_dasa_(V9).h5\n",
            "Epoch 19/40\n",
            "178/178 [==============================] - 139s 780ms/step - loss: 0.0036 - accuracy: 0.9986 - val_loss: 0.1739 - val_accuracy: 0.9546\n",
            "\n",
            "Epoch 00019: val_loss improved from 0.19776 to 0.17388, saving model to /content/drive/Shareddrives/fyp/models/mobileNet/Hash/MobileNetV2_dasa_(V9).h5\n",
            "Epoch 20/40\n",
            "178/178 [==============================] - 137s 768ms/step - loss: 0.0070 - accuracy: 0.9972 - val_loss: 0.1884 - val_accuracy: 0.9494\n",
            "\n",
            "Epoch 00020: val_loss did not improve from 0.17388\n",
            "Epoch 21/40\n",
            "178/178 [==============================] - 136s 765ms/step - loss: 0.0050 - accuracy: 0.9979 - val_loss: 0.1420 - val_accuracy: 0.9610\n",
            "\n",
            "Epoch 00021: val_loss improved from 0.17388 to 0.14205, saving model to /content/drive/Shareddrives/fyp/models/mobileNet/Hash/MobileNetV2_dasa_(V9).h5\n",
            "Epoch 22/40\n",
            "178/178 [==============================] - 136s 764ms/step - loss: 0.0041 - accuracy: 0.9991 - val_loss: 0.1405 - val_accuracy: 0.9615\n",
            "\n",
            "Epoch 00022: val_loss improved from 0.14205 to 0.14049, saving model to /content/drive/Shareddrives/fyp/models/mobileNet/Hash/MobileNetV2_dasa_(V9).h5\n",
            "Epoch 23/40\n",
            "178/178 [==============================] - 139s 781ms/step - loss: 0.0031 - accuracy: 0.9988 - val_loss: 0.1169 - val_accuracy: 0.9684\n",
            "\n",
            "Epoch 00023: val_loss improved from 0.14049 to 0.11688, saving model to /content/drive/Shareddrives/fyp/models/mobileNet/Hash/MobileNetV2_dasa_(V9).h5\n",
            "Epoch 24/40\n",
            "178/178 [==============================] - 141s 794ms/step - loss: 0.0032 - accuracy: 0.9995 - val_loss: 0.1251 - val_accuracy: 0.9641\n",
            "\n",
            "Epoch 00024: val_loss did not improve from 0.11688\n",
            "Epoch 25/40\n",
            "178/178 [==============================] - 140s 783ms/step - loss: 0.0038 - accuracy: 0.9989 - val_loss: 0.1073 - val_accuracy: 0.9720\n",
            "\n",
            "Epoch 00025: val_loss improved from 0.11688 to 0.10733, saving model to /content/drive/Shareddrives/fyp/models/mobileNet/Hash/MobileNetV2_dasa_(V9).h5\n",
            "Epoch 26/40\n",
            "178/178 [==============================] - 140s 787ms/step - loss: 0.0034 - accuracy: 0.9989 - val_loss: 0.0932 - val_accuracy: 0.9778\n",
            "\n",
            "Epoch 00026: val_loss improved from 0.10733 to 0.09317, saving model to /content/drive/Shareddrives/fyp/models/mobileNet/Hash/MobileNetV2_dasa_(V9).h5\n",
            "Epoch 27/40\n",
            "178/178 [==============================] - 143s 802ms/step - loss: 0.0027 - accuracy: 0.9989 - val_loss: 0.0954 - val_accuracy: 0.9773\n",
            "\n",
            "Epoch 00027: val_loss did not improve from 0.09317\n",
            "Epoch 28/40\n",
            "178/178 [==============================] - 142s 794ms/step - loss: 0.0023 - accuracy: 0.9995 - val_loss: 0.1057 - val_accuracy: 0.9763\n",
            "\n",
            "Epoch 00028: val_loss did not improve from 0.09317\n",
            "Epoch 29/40\n",
            "178/178 [==============================] - 143s 804ms/step - loss: 0.0025 - accuracy: 0.9991 - val_loss: 0.0889 - val_accuracy: 0.9810\n",
            "\n",
            "Epoch 00029: val_loss improved from 0.09317 to 0.08894, saving model to /content/drive/Shareddrives/fyp/models/mobileNet/Hash/MobileNetV2_dasa_(V9).h5\n",
            "Epoch 30/40\n",
            "178/178 [==============================] - 143s 801ms/step - loss: 0.0027 - accuracy: 0.9991 - val_loss: 0.0894 - val_accuracy: 0.9805\n",
            "\n",
            "Epoch 00030: val_loss did not improve from 0.08894\n",
            "Epoch 31/40\n",
            "178/178 [==============================] - 144s 809ms/step - loss: 0.0019 - accuracy: 0.9993 - val_loss: 0.0968 - val_accuracy: 0.9821\n",
            "\n",
            "Epoch 00031: val_loss did not improve from 0.08894\n",
            "Epoch 32/40\n",
            "178/178 [==============================] - 145s 812ms/step - loss: 0.0033 - accuracy: 0.9989 - val_loss: 0.0965 - val_accuracy: 0.9826\n",
            "\n",
            "Epoch 00032: val_loss did not improve from 0.08894\n",
            "Epoch 33/40\n",
            "178/178 [==============================] - 144s 809ms/step - loss: 0.0017 - accuracy: 0.9991 - val_loss: 0.1047 - val_accuracy: 0.9826\n",
            "\n",
            "Epoch 00033: val_loss did not improve from 0.08894\n",
            "Epoch 34/40\n",
            "178/178 [==============================] - 141s 788ms/step - loss: 0.0020 - accuracy: 0.9995 - val_loss: 0.1059 - val_accuracy: 0.9826\n",
            "\n",
            "Epoch 00034: val_loss did not improve from 0.08894\n",
            "Epoch 35/40\n",
            "178/178 [==============================] - 143s 803ms/step - loss: 0.0013 - accuracy: 0.9996 - val_loss: 0.1133 - val_accuracy: 0.9826\n",
            "\n",
            "Epoch 00035: val_loss did not improve from 0.08894\n",
            "Epoch 36/40\n",
            "178/178 [==============================] - 141s 791ms/step - loss: 0.0030 - accuracy: 0.9989 - val_loss: 0.1099 - val_accuracy: 0.9821\n",
            "\n",
            "Epoch 00036: val_loss did not improve from 0.08894\n",
            "Epoch 37/40\n",
            "178/178 [==============================] - 142s 797ms/step - loss: 0.0014 - accuracy: 0.9996 - val_loss: 0.1135 - val_accuracy: 0.9826\n",
            "\n",
            "Epoch 00037: val_loss did not improve from 0.08894\n",
            "Epoch 38/40\n",
            "178/178 [==============================] - 141s 790ms/step - loss: 0.0025 - accuracy: 0.9991 - val_loss: 0.1127 - val_accuracy: 0.9826\n",
            "\n",
            "Epoch 00038: val_loss did not improve from 0.08894\n",
            "Epoch 39/40\n",
            "178/178 [==============================] - 139s 779ms/step - loss: 0.0019 - accuracy: 0.9991 - val_loss: 0.1085 - val_accuracy: 0.9821\n",
            "\n",
            "Epoch 00039: val_loss did not improve from 0.08894\n",
            "Epoch 40/40\n",
            "178/178 [==============================] - 139s 779ms/step - loss: 0.0020 - accuracy: 0.9995 - val_loss: 0.1139 - val_accuracy: 0.9815\n",
            "\n",
            "Epoch 00040: val_loss did not improve from 0.08894\n"
          ],
          "name": "stdout"
        }
      ]
    },
    {
      "cell_type": "code",
      "metadata": {
        "colab": {
          "base_uri": "https://localhost:8080/"
        },
        "id": "X-tEVCx0Vbq9",
        "outputId": "3bb706b2-8081-45eb-8212-2b68821e3850"
      },
      "source": [
        "model.save(save_model_path)"
      ],
      "execution_count": null,
      "outputs": [
        {
          "output_type": "stream",
          "text": [
            "/usr/local/lib/python3.7/dist-packages/keras/utils/generic_utils.py:497: CustomMaskWarning: Custom mask layers require a config and must override get_config. When loading, the custom mask layer must be passed to the custom_objects argument.\n",
            "  category=CustomMaskWarning)\n"
          ],
          "name": "stderr"
        }
      ]
    },
    {
      "cell_type": "code",
      "metadata": {
        "id": "Tw8Y_uPL83qo",
        "colab": {
          "base_uri": "https://localhost:8080/",
          "height": 513
        },
        "outputId": "6d50e250-5e16-48b1-b71d-60df15ca6581"
      },
      "source": [
        "plot_graphs(history)"
      ],
      "execution_count": null,
      "outputs": [
        {
          "output_type": "display_data",
          "data": {
            "image/png": "[encoded data removed]",
            "text/plain": [
              "<Figure size 576x576 with 2 Axes>"
            ]
          },
          "metadata": {
            "needs_background": "light"
          }
        }
      ]
    },
    {
      "cell_type": "code",
      "metadata": {
        "id": "tNTMcRaO83gH",
        "colab": {
          "base_uri": "https://localhost:8080/"
        },
        "outputId": "748bf3a1-4640-4482-9980-e81a20a9f004"
      },
      "source": [
        "model.evaluate(test_generator_eval)"
      ],
      "execution_count": null,
      "outputs": [
        {
          "output_type": "stream",
          "text": [
            "60/60 [==============================] - 17s 278ms/step - loss: 0.0504 - accuracy: 0.9889\n"
          ],
          "name": "stdout"
        },
        {
          "output_type": "execute_result",
          "data": {
            "text/plain": [
              "[0.05039963126182556, 0.9889181852340698]"
            ]
          },
          "metadata": {},
          "execution_count": 37
        }
      ]
    },
    {
      "cell_type": "code",
      "metadata": {
        "id": "P8GRxXOErc_c"
      },
      "source": [
        "filename = save_history_path+\"history1.npy\"\n",
        "np.save(filename,history.history)"
      ],
      "execution_count": null,
      "outputs": []
    },
    {
      "cell_type": "code",
      "metadata": {
        "id": "NErS8wnmrxWw"
      },
      "source": [
        "history1=np.load(filename,allow_pickle='TRUE').item()"
      ],
      "execution_count": null,
      "outputs": []
    },
    {
      "cell_type": "code",
      "metadata": {
        "id": "KYmkrmI9ciLF",
        "colab": {
          "base_uri": "https://localhost:8080/",
          "height": 629
        },
        "outputId": "0c79fa58-2776-4623-a4d4-26115162cf89"
      },
      "source": [
        "##Testing model \n",
        "nb_samples = test_df.shape[0]\n",
        "\n",
        "test_generator = ImageDataGenerator(rescale = 1./255).flow_from_dataframe(\n",
        "    test_df, \n",
        "    x_col = 'filename',\n",
        "    y_col = None,\n",
        "    class_mode = None,\n",
        "    target_size = IMAGE_SIZE,\n",
        "    batch_size = batch_size,\n",
        "    shuffle = False\n",
        ")\n",
        "\n",
        "#Get Test Data Predictions \n",
        "predict = model.predict(test_generator, steps=np.ceil(nb_samples/batch_size))\n",
        "\n",
        "\n",
        "test_df['category'] = np.argmax(predict, axis=-1)\n",
        "label_map = dict((v,k) for k,v in train_generator.class_indices.items())\n",
        "test_df['category'] = test_df['category'].replace(label_map)\n",
        "test_df['category'] = test_df['category'].replace({'Normal': 0, 'Covid': 1, 'Pneumonia': 2})\n",
        "\n",
        "actual = []\n",
        "pred = []\n",
        "\n",
        "for row in test_df.iterrows():\n",
        "\n",
        "    filename = row[1][0]\n",
        "\n",
        "    if (path + '/normal') in filename: actual.append(0)\n",
        "    if (path + '/covid') in filename: actual.append(1)\n",
        "    if (path + '/pneumonia') in filename: actual.append(2)\n",
        "    pred.append(row[1][1])\n",
        "\n",
        "\n",
        "# Get performance metrics  \n",
        "accuracy = getModelAccuracy(test_df)\n",
        "\n",
        "cf = confusion_matrix(actual, pred)  \n",
        "target_names = ['Normal','Covid', 'Pneumonia']\n",
        "plot_confusion_matrix(cf, target_names)\n",
        "\n",
        "print(classification_report(actual, pred, target_names=target_names))  "
      ],
      "execution_count": null,
      "outputs": [
        {
          "output_type": "stream",
          "text": [
            "Found 1895 validated image filenames.\n",
            "Model Accuracy: 98.89%\n",
            "Correct Predictions: 1874 Total Predictions: 1895\n",
            "\n",
            "Normal Predictions: 308 Accuracy 97.16%\n",
            "Covid Predictions: 723 Accuracy 100.00%\n",
            "Pneumonia Predictions: 843 Accuracy 98.60%\n"
          ],
          "name": "stdout"
        },
        {
          "output_type": "display_data",
          "data": {
            "image/png": "[encoded data removed]",
            "text/plain": [
              "<Figure size 360x288 with 2 Axes>"
            ]
          },
          "metadata": {
            "needs_background": "light"
          }
        },
        {
          "output_type": "stream",
          "text": [
            "              precision    recall  f1-score   support\n",
            "\n",
            "      Normal       0.97      0.97      0.97       317\n",
            "       Covid       1.00      1.00      1.00       723\n",
            "   Pneumonia       0.99      0.99      0.99       855\n",
            "\n",
            "    accuracy                           0.99      1895\n",
            "   macro avg       0.98      0.99      0.99      1895\n",
            "weighted avg       0.99      0.99      0.99      1895\n",
            "\n"
          ],
          "name": "stdout"
        }
      ]
    },
    {
      "cell_type": "code",
      "metadata": {
        "id": "5GAnrd_QZMbk"
      },
      "source": [
        "actual"
      ],
      "execution_count": null,
      "outputs": []
    },
    {
      "cell_type": "code",
      "metadata": {
        "id": "f4mbJ4GGgdwF"
      },
      "source": [
        "from sklearn.metrics import confusion_matrix\n",
        "import numpy as np\n",
        "\n",
        "\n",
        "cm = cf\n",
        "recall = np.diag(cm) / np.sum(cm, axis = 1)\n",
        "precision = np.diag(cm) / np.sum(cm, axis = 0)"
      ],
      "execution_count": null,
      "outputs": []
    },
    {
      "cell_type": "code",
      "metadata": {
        "colab": {
          "base_uri": "https://localhost:8080/"
        },
        "id": "Vda9d7Tqgi3s",
        "outputId": "3a2920a8-a93b-4726-8d95-e662ef698afc"
      },
      "source": [
        "np.mean(recall)"
      ],
      "execution_count": null,
      "outputs": [
        {
          "output_type": "execute_result",
          "data": {
            "text/plain": [
              "0.9858579150294243"
            ]
          },
          "metadata": {},
          "execution_count": 41
        }
      ]
    },
    {
      "cell_type": "code",
      "metadata": {
        "id": "sieSu3_GgnKU",
        "colab": {
          "base_uri": "https://localhost:8080/"
        },
        "outputId": "852b5d80-1f8b-4396-b795-b4a38a207e6f"
      },
      "source": [
        "np.mean(precision)"
      ],
      "execution_count": null,
      "outputs": [
        {
          "output_type": "execute_result",
          "data": {
            "text/plain": [
              "0.9845242152093356"
            ]
          },
          "metadata": {},
          "execution_count": 42
        }
      ]
    },
    {
      "cell_type": "code",
      "metadata": {
        "colab": {
          "base_uri": "https://localhost:8080/"
        },
        "id": "xUt_gxAZX8gA",
        "outputId": "9c4f42ef-f46c-42dc-c133-56876763c6e6"
      },
      "source": [
        "from sklearn.metrics import precision_score, recall_score, f1_score, roc_auc_score\n",
        "\n",
        "# calculate precision\n",
        "precision = precision_score(actual, pred,  average='macro')\n",
        "print('Precision:', precision)\n",
        "\n",
        "# calculate recall\n",
        "recall = recall_score(actual, pred,  average='macro')\n",
        "print('Recall:', recall)\n",
        "\n",
        "# f1\n",
        "# f1 =  2 * (precision * recall) / (precision + recall)\n",
        "f1 = f1_score(actual, pred,  average='macro')\n",
        "print (\"F1 :\", f1)\n",
        "\n",
        "print(confusion_matrix(actual, pred))"
      ],
      "execution_count": null,
      "outputs": [
        {
          "output_type": "stream",
          "text": [
            "Precision: 0.9845242152093356\n",
            "Recall: 0.9858579150294243\n",
            "F1 : 0.9851866964686747\n",
            "[[308   0   9]\n",
            " [  0 723   0]\n",
            " [ 11   1 843]]\n"
          ],
          "name": "stdout"
        }
      ]
    },
    {
      "cell_type": "code",
      "metadata": {
        "id": "1iizl4OVciHA",
        "colab": {
          "base_uri": "https://localhost:8080/"
        },
        "outputId": "4badf9fe-300f-4d56-be1f-e432486be2f5"
      },
      "source": [
        "print(accuracy) #rms"
      ],
      "execution_count": null,
      "outputs": [
        {
          "output_type": "stream",
          "text": [
            "98.89182058047493\n"
          ],
          "name": "stdout"
        }
      ]
    },
    {
      "cell_type": "markdown",
      "metadata": {
        "id": "5qhuQ5xxVnu8"
      },
      "source": [
        "# Saved model"
      ]
    },
    {
      "cell_type": "code",
      "metadata": {
        "id": "QC3DXnR3ciBF"
      },
      "source": [
        "loaded_model = tf.keras.models.load_model(save_model_path)"
      ],
      "execution_count": null,
      "outputs": []
    },
    {
      "cell_type": "markdown",
      "metadata": {
        "id": "Q_aoRaUHmaL7"
      },
      "source": [
        "\n",
        "\n",
        "\n",
        "\n",
        "\n",
        "\n",
        "\n",
        "\n",
        "\n",
        "\n",
        "\n",
        "\n",
        "\n",
        "\n",
        "\n",
        "\n",
        "\n",
        "\n",
        "\n",
        "\n",
        "\n",
        "\n",
        "\n",
        "\n",
        "\n",
        "\n",
        "\n",
        "\n",
        "\n",
        "\n",
        "\n",
        "\n",
        "\n",
        "\n",
        "\n",
        "\n",
        "\n",
        "\n",
        "\n",
        "\n",
        "\n",
        "\n",
        "\n",
        "\n",
        "\n",
        "\n",
        "\n",
        "\n",
        "\n",
        "\n",
        "\n",
        "\n",
        "\n",
        "\n",
        "\n",
        "\n",
        "\n",
        "\n",
        "\n",
        "\n",
        "\n",
        "\n",
        "\n",
        "\n",
        "\n",
        "\n",
        "\n",
        "\n",
        "\n",
        "\n",
        "\n",
        "\n",
        "\n",
        "\n",
        "\n",
        "\n",
        "\n",
        "\n",
        "\n",
        "\n",
        "\n",
        "\n",
        "\n",
        "\n",
        "\n",
        "\n",
        "\n",
        "\n",
        "\n",
        "\n",
        "\n",
        "\n",
        "\n",
        "\n",
        "\n",
        "\n",
        "\n",
        "\n",
        "\n",
        "\n",
        "\n",
        "\n",
        "\n",
        "\n",
        "\n",
        "\n",
        "# predict"
      ]
    },
    {
      "cell_type": "code",
      "metadata": {
        "colab": {
          "base_uri": "https://localhost:8080/",
          "height": 629
        },
        "id": "9kUjbfspsy_Y",
        "outputId": "a5c0012a-be99-4c38-d2a3-aea1e885156c"
      },
      "source": [
        "##Testing model \n",
        "nb_samples = test_df.shape[0]\n",
        "\n",
        "test_generator = ImageDataGenerator(rescale = 1./255).flow_from_dataframe(\n",
        "    test_df, \n",
        "    x_col = 'filename',\n",
        "    y_col = None,\n",
        "    class_mode = None,\n",
        "    target_size = IMAGE_SIZE,\n",
        "    batch_size = batch_size,\n",
        "    shuffle = False\n",
        ")\n",
        "\n",
        "#Get Test Data Predictions \n",
        "predict = loaded_model.predict(test_generator, steps=np.ceil(nb_samples/batch_size))\n",
        "\n",
        "\n",
        "test_df['category'] = np.argmax(predict, axis=-1)\n",
        "label_map = dict((v,k) for k,v in train_generator.class_indices.items())\n",
        "test_df['category'] = test_df['category'].replace(label_map)\n",
        "test_df['category'] = test_df['category'].replace({'Normal': 0, 'Covid': 1, 'Pneumonia': 2})\n",
        "\n",
        "actual = []\n",
        "pred = []\n",
        "\n",
        "for row in test_df.iterrows():\n",
        "\n",
        "    filename = row[1][0]\n",
        "\n",
        "    if (path + '/normal') in filename: actual.append(0)\n",
        "    if (path + '/covid') in filename: actual.append(1)\n",
        "    if (path + '/pneumonia') in filename: actual.append(2)\n",
        "    pred.append(row[1][1])\n",
        "\n",
        "\n",
        "# Get performance metrics  \n",
        "accuracy = getModelAccuracy(test_df)\n",
        "\n",
        "cf = confusion_matrix(actual, pred)  \n",
        "target_names = ['Normal','Covid', 'Pneumonia']\n",
        "plot_confusion_matrix(cf, target_names)\n",
        "\n",
        "print(classification_report(actual, pred, target_names=target_names))  "
      ],
      "execution_count": null,
      "outputs": [
        {
          "output_type": "stream",
          "text": [
            "Found 1895 validated image filenames.\n",
            "Model Accuracy: 98.89%\n",
            "Correct Predictions: 1874 Total Predictions: 1895\n",
            "\n",
            "Normal Predictions: 308 Accuracy 97.16%\n",
            "Covid Predictions: 723 Accuracy 100.00%\n",
            "Pneumonia Predictions: 843 Accuracy 98.60%\n"
          ],
          "name": "stdout"
        },
        {
          "output_type": "display_data",
          "data": {
            "image/png": "[encoded data removed]",
            "text/plain": [
              "<Figure size 360x288 with 2 Axes>"
            ]
          },
          "metadata": {
            "needs_background": "light"
          }
        },
        {
          "output_type": "stream",
          "text": [
            "              precision    recall  f1-score   support\n",
            "\n",
            "      Normal       0.97      0.97      0.97       317\n",
            "       Covid       1.00      1.00      1.00       723\n",
            "   Pneumonia       0.99      0.99      0.99       855\n",
            "\n",
            "    accuracy                           0.99      1895\n",
            "   macro avg       0.98      0.99      0.99      1895\n",
            "weighted avg       0.99      0.99      0.99      1895\n",
            "\n"
          ],
          "name": "stdout"
        }
      ]
    },
    {
      "cell_type": "code",
      "metadata": {
        "colab": {
          "base_uri": "https://localhost:8080/"
        },
        "id": "YuLB-KIjtonA",
        "outputId": "5f454616-69e8-4427-ca2d-497414a50cc9"
      },
      "source": [
        "from sklearn.metrics import precision_score, recall_score, f1_score, roc_auc_score\n",
        "\n",
        "# calculate precision\n",
        "precision = precision_score(actual, pred,  average='macro')\n",
        "print('Precision:', precision)\n",
        "\n",
        "# calculate recall\n",
        "recall = recall_score(actual, pred,  average='macro')\n",
        "print('Recall:', recall)\n",
        "\n",
        "# f1\n",
        "# f1 =  2 * (precision * recall) / (precision + recall)\n",
        "f1 = f1_score(actual, pred,  average='macro')\n",
        "print (\"F1 :\", f1)\n",
        "\n",
        "print(confusion_matrix(actual, pred))"
      ],
      "execution_count": null,
      "outputs": [
        {
          "output_type": "stream",
          "text": [
            "Precision: 0.9845242152093356\n",
            "Recall: 0.9858579150294243\n",
            "F1 : 0.9851866964686747\n",
            "[[308   0   9]\n",
            " [  0 723   0]\n",
            " [ 11   1 843]]\n"
          ],
          "name": "stdout"
        }
      ]
    },
    {
      "cell_type": "markdown",
      "metadata": {
        "id": "NCOY1nCrGWif"
      },
      "source": [
        "# Predict single"
      ]
    },
    {
      "cell_type": "code",
      "metadata": {
        "id": "5aWDERqZGWis"
      },
      "source": [
        "batch_size = 1\n",
        "nb_samples = 1"
      ],
      "execution_count": null,
      "outputs": []
    },
    {
      "cell_type": "code",
      "metadata": {
        "id": "9mg8wWSpGWit"
      },
      "source": [
        "test_file = [\"/content/pauldataset/normal/NORMAL2-IM-1203-0001.jpeg\"]\n",
        "df_file = pd.DataFrame({\n",
        "    'filename': test_file\n",
        "})"
      ],
      "execution_count": null,
      "outputs": []
    },
    {
      "cell_type": "code",
      "metadata": {
        "id": "gD93ZW6IGWiu",
        "colab": {
          "base_uri": "https://localhost:8080/",
          "height": 80
        },
        "outputId": "f9c344b6-89f1-426e-a192-e46a2b2c3d41"
      },
      "source": [
        "df_file"
      ],
      "execution_count": null,
      "outputs": [
        {
          "output_type": "execute_result",
          "data": {
            "text/html": [
              "<div>\n",
              "<style scoped>\n",
              "    .dataframe tbody tr th:only-of-type {\n",
              "        vertical-align: middle;\n",
              "    }\n",
              "\n",
              "    .dataframe tbody tr th {\n",
              "        vertical-align: top;\n",
              "    }\n",
              "\n",
              "    .dataframe thead th {\n",
              "        text-align: right;\n",
              "    }\n",
              "</style>\n",
              "<table border=\"1\" class=\"dataframe\">\n",
              "  <thead>\n",
              "    <tr style=\"text-align: right;\">\n",
              "      <th></th>\n",
              "      <th>filename</th>\n",
              "    </tr>\n",
              "  </thead>\n",
              "  <tbody>\n",
              "    <tr>\n",
              "      <th>0</th>\n",
              "      <td>/content/pauldataset/normal/NORMAL2-IM-1203-0001.jpeg</td>\n",
              "    </tr>\n",
              "  </tbody>\n",
              "</table>\n",
              "</div>"
            ],
            "text/plain": [
              "                                                filename\n",
              "0  /content/pauldataset/normal/NORMAL2-IM-1203-0001.jpeg"
            ]
          },
          "metadata": {},
          "execution_count": 82
        }
      ]
    },
    {
      "cell_type": "code",
      "metadata": {
        "id": "FqjIuDDKGWiw",
        "colab": {
          "base_uri": "https://localhost:8080/"
        },
        "outputId": "e00c84b0-0aa3-49a6-e0ff-91980ac9c7ff"
      },
      "source": [
        "test_single_gen = ImageDataGenerator(rescale = 1./255).flow_from_dataframe(\n",
        "    df_file, \n",
        "    x_col = 'filename',\n",
        "    y_col = None,\n",
        "    class_mode = None,\n",
        "    target_size = IMAGE_SIZE,\n",
        "    batch_size = batch_size,\n",
        "    shuffle = False\n",
        ")"
      ],
      "execution_count": null,
      "outputs": [
        {
          "output_type": "stream",
          "text": [
            "Found 1 validated image filenames.\n"
          ],
          "name": "stdout"
        }
      ]
    },
    {
      "cell_type": "code",
      "metadata": {
        "id": "gebZ9-52GWix"
      },
      "source": [
        "predict = loaded_model.predict(test_single_gen, steps = np.ceil(nb_samples/batch_size))"
      ],
      "execution_count": null,
      "outputs": []
    },
    {
      "cell_type": "code",
      "metadata": {
        "id": "S9dGyAV7-xNA"
      },
      "source": [
        "df_file['category'] = np.argmax(predict, axis=-1)"
      ],
      "execution_count": null,
      "outputs": []
    },
    {
      "cell_type": "code",
      "metadata": {
        "id": "rmAaYA-k9t8t"
      },
      "source": [
        "label_map = dict((v,k) for k,v in train_generator.class_indices.items())\n",
        "df_file['category'] = df_file['category'].replace(label_map)"
      ],
      "execution_count": null,
      "outputs": []
    },
    {
      "cell_type": "code",
      "metadata": {
        "id": "YuVyr8LqAiQY",
        "colab": {
          "base_uri": "https://localhost:8080/",
          "height": 80
        },
        "outputId": "373585a8-fa8a-463b-f6e0-df2243b4a893"
      },
      "source": [
        "df_file"
      ],
      "execution_count": null,
      "outputs": [
        {
          "output_type": "execute_result",
          "data": {
            "text/html": [
              "<div>\n",
              "<style scoped>\n",
              "    .dataframe tbody tr th:only-of-type {\n",
              "        vertical-align: middle;\n",
              "    }\n",
              "\n",
              "    .dataframe tbody tr th {\n",
              "        vertical-align: top;\n",
              "    }\n",
              "\n",
              "    .dataframe thead th {\n",
              "        text-align: right;\n",
              "    }\n",
              "</style>\n",
              "<table border=\"1\" class=\"dataframe\">\n",
              "  <thead>\n",
              "    <tr style=\"text-align: right;\">\n",
              "      <th></th>\n",
              "      <th>filename</th>\n",
              "      <th>category</th>\n",
              "    </tr>\n",
              "  </thead>\n",
              "  <tbody>\n",
              "    <tr>\n",
              "      <th>0</th>\n",
              "      <td>/content/pauldataset/normal/NORMAL2-IM-1203-0001.jpeg</td>\n",
              "      <td>Normal</td>\n",
              "    </tr>\n",
              "  </tbody>\n",
              "</table>\n",
              "</div>"
            ],
            "text/plain": [
              "                                                filename category\n",
              "0  /content/pauldataset/normal/NORMAL2-IM-1203-0001.jpeg   Normal"
            ]
          },
          "metadata": {},
          "execution_count": 87
        }
      ]
    }
  ]
}
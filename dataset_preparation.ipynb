{
  "cells": [
    {
      "cell_type": "code",
      "execution_count": null,
      "metadata": {
        "colab": {
          "base_uri": "https://localhost:8080/"
        },
        "id": "iUjJSBHEK24F",
        "outputId": "47dea734-9636-4288-fc69-4f5adb0a0176"
      },
      "outputs": [
        {
          "output_type": "stream",
          "name": "stdout",
          "text": [
            "Mounted at /content/drive\n"
          ]
        }
      ],
      "source": [
        "from google.colab import drive\n",
        "drive.mount('/content/drive')"
      ]
    },
    {
      "cell_type": "code",
      "execution_count": null,
      "metadata": {
        "id": "mxssoIC1LQDP"
      },
      "outputs": [],
      "source": [
        "#copy all images\n",
        "\n",
        "!cp '/content/drive/Shareddrives/fyp/dataset/v7-segmentation-covid-19-xray-dataset/annotations/all-images.zip' .\n",
        "\n",
        "# unzip\n",
        "!unzip -q 'all-images.zip'"
      ]
    },
    {
      "cell_type": "code",
      "execution_count": null,
      "metadata": {
        "id": "M6AmwAy8Lt27"
      },
      "outputs": [],
      "source": [
        "!cp -r '/content/drive/Shareddrives/fyp/dataset/v7-segmentation-covid-19-xray-dataset/annotations/all-images-semantic-masks' '/content/masks/'"
      ]
    },
    {
      "cell_type": "code",
      "execution_count": null,
      "metadata": {
        "id": "ig-9YjTRNpNk"
      },
      "outputs": [],
      "source": [
        "import json\n",
        "import os"
      ]
    },
    {
      "cell_type": "code",
      "execution_count": null,
      "metadata": {
        "id": "NMOz2YTtOfH1"
      },
      "outputs": [],
      "source": [
        "import urllib.request\n",
        "from shutil import copyfile"
      ]
    },
    {
      "cell_type": "code",
      "execution_count": null,
      "metadata": {
        "id": "WMBXlu0HN5gM"
      },
      "outputs": [],
      "source": [
        "for f in os.listdir(\"/content/masks\"):\n",
        "    class_ = \"\"\n",
        "    if f.endswith(\".png\"):\n",
        "      file_name = os.path.splitext(f)[0]\n",
        "      json_file = json.load(open(file_name + '.json'))\n",
        "      # print(json_file)\n",
        "      isLung = False\n",
        "\n",
        "      for i in  json_file[\"annotations\"]: \n",
        "        if i[\"name\"] == \"Lung\":\n",
        "            isLung = True\n",
        "            break\n",
        "      \n",
        "      if isLung:\n",
        "        for i in  json_file[\"annotations\"]: \n",
        "          if i[\"name\"] == \"COVID-19\":\n",
        "            class_ = \"COVID\"\n",
        "            break\n",
        "          elif i[\"name\"] == \"Viral Pneumonia\" or i[\"name\"] == \"Bacterial Pneumonia\":\n",
        "            class_ = \"Pneumonia\"\n",
        "          elif i[\"name\"] ==  \"No Pneumonia (healthy)\":\n",
        "            class_ = \"Normal\"\n",
        "            print (\"normal\")\n",
        "            break\n",
        "        \n",
        "        if class_ != \"\":\n",
        "            # print (class_)\n",
        "            image_url = json_file[\"image\"][\"url\"]\n",
        "            image_type = json_file[\"image\"][\"filename\"].split(\".\")[-1]\n",
        "                      \n",
        "            file_path = \"/content/drive/Shareddrives/fyp/dataset/segmented dataset/\" + class_ + \"/\"\n",
        "\n",
        "            copyfile(\"/content/masks/\" + file_name + \".png\", \n",
        "                      file_path + \"masks/\" + file_name + '.png')\n",
        "            urllib.request.urlretrieve(image_url, file_path + \"images/\" + file_name + '.' + image_type)\n",
        "        # break"
      ]
    }
  ],
  "metadata": {
    "colab": {
      "name": "dataset preparation.ipynb",
      "provenance": [],
      "authorship_tag": "ABX9TyP7o9PwfVygjUv6+/dCuLLb"
    },
    "kernelspec": {
      "display_name": "Python 3",
      "name": "python3"
    },
    "language_info": {
      "name": "python"
    }
  },
  "nbformat": 4,
  "nbformat_minor": 0
}